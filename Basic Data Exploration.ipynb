{
 "cells": [
  {
   "cell_type": "code",
   "execution_count": 121,
   "id": "e7ab396d",
   "metadata": {},
   "outputs": [],
   "source": [
    "import pandas as pd\n",
    "import matplotlib.pyplot as plt\n",
    "import seaborn as sns\n",
    "import numpy as np\n",
    "import fasttext\n",
    "from pycountry import languages\n",
    "import re\n"
   ]
  },
  {
   "cell_type": "code",
   "execution_count": 112,
   "id": "d0f55a92",
   "metadata": {},
   "outputs": [
    {
     "name": "stderr",
     "output_type": "stream",
     "text": [
      "Warning : `load_model` does not return WordVectorModel or SupervisedModel any more, but a `FastText` object which is very similar.\n"
     ]
    }
   ],
   "source": [
    "# bringing in the model path for fasttext\n",
    "PRETRAINED_MODEL_PATH = 'lid.176.bin'\n",
    "model = fasttext.load_model(PRETRAINED_MODEL_PATH)\n"
   ]
  },
  {
   "cell_type": "code",
   "execution_count": 113,
   "id": "23c555c6",
   "metadata": {},
   "outputs": [],
   "source": [
    "# function to help figure out the language\n",
    "def lang_class(x):\n",
    "    x = x .replace(\"\\n\", \" \")\n",
    "    lang = model.predict(x)\n",
    "    \n",
    "    return lang"
   ]
  },
  {
   "cell_type": "code",
   "execution_count": 114,
   "id": "20432e13",
   "metadata": {},
   "outputs": [],
   "source": [
    "# function to help retrieve the language name using the language code\n",
    "def lang_from_code(x):\n",
    "    x = x[0]\n",
    "    x = str(x)\n",
    "  \n",
    "    match = re.match(r\"__label__([a-zA-Z]+)\", x)\n",
    "    match = match.group(1)\n",
    "\n",
    "    if len(match) == 2:\n",
    "        \n",
    "        try:\n",
    "            lang = languages.get(alpha_2=match).name\n",
    "\n",
    "        except:\n",
    "            lang = match\n",
    "    elif len(match) == 3:\n",
    "        try:\n",
    "            lang = languages.get(alpha_3=match).name\n",
    "        \n",
    "        except:   \n",
    "            lang = match\n",
    "        \n",
    "    return(lang)"
   ]
  },
  {
   "cell_type": "code",
   "execution_count": null,
   "id": "1ca1dd07",
   "metadata": {},
   "outputs": [],
   "source": []
  },
  {
   "cell_type": "code",
   "execution_count": 3,
   "id": "8c9424c0",
   "metadata": {},
   "outputs": [],
   "source": [
    "# reading in the data\n",
    "data = pd.read_json(\"PRC-UK_Embassy_press_releases.ndjson\",lines=True)"
   ]
  },
  {
   "cell_type": "code",
   "execution_count": 25,
   "id": "a293fb23",
   "metadata": {},
   "outputs": [],
   "source": [
    "# creating new columns for the length of title and body in terms of words\n",
    "data[\"title_length\"] = data[\"title\"].str.split().apply(len)\n",
    "data[\"body_length\"] = data[\"body\"].str.split().apply(len)"
   ]
  },
  {
   "cell_type": "markdown",
   "id": "8706bc0b",
   "metadata": {},
   "source": [
    "### Exploring the distribution of Ambassador"
   ]
  },
  {
   "cell_type": "code",
   "execution_count": 47,
   "id": "d618d703",
   "metadata": {},
   "outputs": [
    {
     "data": {
      "text/plain": [
       "<AxesSubplot:ylabel='ambassador'>"
      ]
     },
     "execution_count": 47,
     "metadata": {},
     "output_type": "execute_result"
    },
    {
     "data": {
      "image/png": "[encoded data removed]",
      "text/plain": [
       "<Figure size 432x288 with 1 Axes>"
      ]
     },
     "metadata": {},
     "output_type": "display_data"
    }
   ],
   "source": [
    "# comparing the appearances of Ambassador within the dataset\n",
    "data[\"ambassador\"].value_counts().plot.pie()"
   ]
  },
  {
   "cell_type": "code",
   "execution_count": 48,
   "id": "49240e47",
   "metadata": {},
   "outputs": [
    {
     "data": {
      "text/plain": [
       "Ambassador Liu Xiaoming     230\n",
       "Ambassador Zheng Zeguang    143\n",
       "Name: ambassador, dtype: int64"
      ]
     },
     "execution_count": 48,
     "metadata": {},
     "output_type": "execute_result"
    }
   ],
   "source": [
    "data[\"ambassador\"].value_counts()"
   ]
  },
  {
   "cell_type": "markdown",
   "id": "5e2784e7",
   "metadata": {},
   "source": [
    "This is rather surprising as Ambassador Zheng Zeguang has only been in the role since 2021, thus it's surprising he's been the ambassador with so many press releases in such a short time."
   ]
  },
  {
   "cell_type": "markdown",
   "id": "e27ef620",
   "metadata": {},
   "source": [
    "### Exploring the Title and Body length"
   ]
  },
  {
   "cell_type": "markdown",
   "id": "2455cb7f",
   "metadata": {},
   "source": [
    "#### Title Length"
   ]
  },
  {
   "cell_type": "code",
   "execution_count": 82,
   "id": "a24a478e",
   "metadata": {},
   "outputs": [
    {
     "data": {
      "image/png": "[encoded data removed]",
      "text/plain": [
       "<Figure size 432x288 with 1 Axes>"
      ]
     },
     "metadata": {
      "needs_background": "light"
     },
     "output_type": "display_data"
    }
   ],
   "source": [
    "data[\"title_length\"].plot.hist()\n",
    "plt.title(\"Title Length Distribution\")\n",
    "plt.ylabel(\"Count\")\n",
    "plt.xlabel(\"Length in Words\")\n",
    "plt.show()"
   ]
  },
  {
   "cell_type": "code",
   "execution_count": 84,
   "id": "30df7502",
   "metadata": {},
   "outputs": [
    {
     "data": {
      "image/png": "[encoded data removed]",
      "text/plain": [
       "<Figure size 432x288 with 1 Axes>"
      ]
     },
     "metadata": {
      "needs_background": "light"
     },
     "output_type": "display_data"
    }
   ],
   "source": [
    "# exploring the distribution of title length\n",
    "data[\"title_length\"].plot.hist(bins=len(data[\"title_length\"].value_counts()))\n",
    "plt.title(\"Title Length Distribution\")\n",
    "plt.ylabel(\"Count\")\n",
    "plt.xlabel(\"Length in Words\")\n",
    "plt.show()"
   ]
  },
  {
   "cell_type": "markdown",
   "id": "bff11b36",
   "metadata": {},
   "source": [
    "These both show that the length in words for the titles tend to cluster around 10 to around 15 words."
   ]
  },
  {
   "cell_type": "markdown",
   "id": "8492495f",
   "metadata": {},
   "source": [
    "#### Body Length"
   ]
  },
  {
   "cell_type": "code",
   "execution_count": 85,
   "id": "d7806890",
   "metadata": {},
   "outputs": [
    {
     "data": {
      "image/png": "[encoded data removed]",
      "text/plain": [
       "<Figure size 432x288 with 1 Axes>"
      ]
     },
     "metadata": {
      "needs_background": "light"
     },
     "output_type": "display_data"
    }
   ],
   "source": [
    "data[\"body_length\"].plot.hist()\n",
    "plt.title(\"Body Length Distribution\")\n",
    "plt.ylabel(\"Count\")\n",
    "plt.xlabel(\"Length in Words\")\n",
    "plt.show()"
   ]
  },
  {
   "cell_type": "code",
   "execution_count": 86,
   "id": "710d959f",
   "metadata": {},
   "outputs": [
    {
     "data": {
      "image/png": "[encoded data removed]",
      "text/plain": [
       "<Figure size 432x288 with 1 Axes>"
      ]
     },
     "metadata": {
      "needs_background": "light"
     },
     "output_type": "display_data"
    }
   ],
   "source": [
    "data[\"body_length\"].plot.hist(bins=50)\n",
    "plt.title(\"Body Length Distribution\")\n",
    "plt.ylabel(\"Count\")\n",
    "plt.xlabel(\"Length in Words\")\n",
    "plt.show()"
   ]
  },
  {
   "cell_type": "markdown",
   "id": "ae95e244",
   "metadata": {},
   "source": [
    "These show that the press releases are generally around 400-800 words in length."
   ]
  },
  {
   "cell_type": "markdown",
   "id": "4437bd97",
   "metadata": {},
   "source": [
    "### Comparing Ambassadors on the descriptive statistics for title and body length"
   ]
  },
  {
   "cell_type": "markdown",
   "id": "5aa41911",
   "metadata": {},
   "source": [
    "#### Looking at title length in a little greater detail"
   ]
  },
  {
   "cell_type": "code",
   "execution_count": 89,
   "id": "afbf0d7c",
   "metadata": {},
   "outputs": [
    {
     "data": {
      "text/html": [
       "<div>\n",
       "<style scoped>\n",
       "    .dataframe tbody tr th:only-of-type {\n",
       "        vertical-align: middle;\n",
       "    }\n",
       "\n",
       "    .dataframe tbody tr th {\n",
       "        vertical-align: top;\n",
       "    }\n",
       "\n",
       "    .dataframe thead th {\n",
       "        text-align: right;\n",
       "    }\n",
       "</style>\n",
       "<table border=\"1\" class=\"dataframe\">\n",
       "  <thead>\n",
       "    <tr style=\"text-align: right;\">\n",
       "      <th></th>\n",
       "      <th>count</th>\n",
       "      <th>mean</th>\n",
       "      <th>std</th>\n",
       "      <th>min</th>\n",
       "      <th>25%</th>\n",
       "      <th>50%</th>\n",
       "      <th>75%</th>\n",
       "      <th>max</th>\n",
       "    </tr>\n",
       "    <tr>\n",
       "      <th>ambassador</th>\n",
       "      <th></th>\n",
       "      <th></th>\n",
       "      <th></th>\n",
       "      <th></th>\n",
       "      <th></th>\n",
       "      <th></th>\n",
       "      <th></th>\n",
       "      <th></th>\n",
       "    </tr>\n",
       "  </thead>\n",
       "  <tbody>\n",
       "    <tr>\n",
       "      <th>Ambassador Liu Xiaoming</th>\n",
       "      <td>230.0</td>\n",
       "      <td>13.534783</td>\n",
       "      <td>5.830660</td>\n",
       "      <td>3.0</td>\n",
       "      <td>10.0</td>\n",
       "      <td>13.0</td>\n",
       "      <td>16.0</td>\n",
       "      <td>36.0</td>\n",
       "    </tr>\n",
       "    <tr>\n",
       "      <th>Ambassador Zheng Zeguang</th>\n",
       "      <td>143.0</td>\n",
       "      <td>13.314685</td>\n",
       "      <td>4.906764</td>\n",
       "      <td>3.0</td>\n",
       "      <td>10.0</td>\n",
       "      <td>13.0</td>\n",
       "      <td>16.0</td>\n",
       "      <td>31.0</td>\n",
       "    </tr>\n",
       "  </tbody>\n",
       "</table>\n",
       "</div>"
      ],
      "text/plain": [
       "                          count       mean       std  min   25%   50%   75%  \\\n",
       "ambassador                                                                    \n",
       "Ambassador Liu Xiaoming   230.0  13.534783  5.830660  3.0  10.0  13.0  16.0   \n",
       "Ambassador Zheng Zeguang  143.0  13.314685  4.906764  3.0  10.0  13.0  16.0   \n",
       "\n",
       "                           max  \n",
       "ambassador                      \n",
       "Ambassador Liu Xiaoming   36.0  \n",
       "Ambassador Zheng Zeguang  31.0  "
      ]
     },
     "execution_count": 89,
     "metadata": {},
     "output_type": "execute_result"
    }
   ],
   "source": [
    "# looking at the descriptive statistics for title length\n",
    "data[\"title_length\"].groupby(data[\"ambassador\"]).describe()"
   ]
  },
  {
   "cell_type": "code",
   "execution_count": 91,
   "id": "5d3c551b",
   "metadata": {},
   "outputs": [
    {
     "data": {
      "text/plain": [
       "ambassador\n",
       "Ambassador Liu Xiaoming     13\n",
       "Ambassador Zheng Zeguang    13\n",
       "Name: title_length, dtype: int64"
      ]
     },
     "execution_count": 91,
     "metadata": {},
     "output_type": "execute_result"
    }
   ],
   "source": [
    "# looking at the median for title length\n",
    "data[\"title_length\"].groupby(data[\"ambassador\"]).median()"
   ]
  },
  {
   "cell_type": "code",
   "execution_count": 99,
   "id": "92c96484",
   "metadata": {
    "scrolled": true
   },
   "outputs": [
    {
     "data": {
      "text/plain": [
       "ambassador\n",
       "Ambassador Liu Xiaoming     33.996601\n",
       "Ambassador Zheng Zeguang    24.076332\n",
       "Name: title_length, dtype: float64"
      ]
     },
     "execution_count": 99,
     "metadata": {},
     "output_type": "execute_result"
    }
   ],
   "source": [
    "# looking at the variance for title length\n",
    "data[\"title_length\"].groupby(data[\"ambassador\"]).var()"
   ]
  },
  {
   "cell_type": "markdown",
   "id": "f062182c",
   "metadata": {},
   "source": [
    "Looking at these, it seems that the title length is fairly stable over time. That's unsurprising as the title length is likely driven more by fairly stable convention than the diplomacy of the day. "
   ]
  },
  {
   "cell_type": "markdown",
   "id": "730c9972",
   "metadata": {},
   "source": [
    "#### Looking at body length in a little greater detail"
   ]
  },
  {
   "cell_type": "code",
   "execution_count": 88,
   "id": "df3fcaa2",
   "metadata": {},
   "outputs": [
    {
     "data": {
      "text/html": [
       "<div>\n",
       "<style scoped>\n",
       "    .dataframe tbody tr th:only-of-type {\n",
       "        vertical-align: middle;\n",
       "    }\n",
       "\n",
       "    .dataframe tbody tr th {\n",
       "        vertical-align: top;\n",
       "    }\n",
       "\n",
       "    .dataframe thead th {\n",
       "        text-align: right;\n",
       "    }\n",
       "</style>\n",
       "<table border=\"1\" class=\"dataframe\">\n",
       "  <thead>\n",
       "    <tr style=\"text-align: right;\">\n",
       "      <th></th>\n",
       "      <th>count</th>\n",
       "      <th>mean</th>\n",
       "      <th>std</th>\n",
       "      <th>min</th>\n",
       "      <th>25%</th>\n",
       "      <th>50%</th>\n",
       "      <th>75%</th>\n",
       "      <th>max</th>\n",
       "    </tr>\n",
       "    <tr>\n",
       "      <th>ambassador</th>\n",
       "      <th></th>\n",
       "      <th></th>\n",
       "      <th></th>\n",
       "      <th></th>\n",
       "      <th></th>\n",
       "      <th></th>\n",
       "      <th></th>\n",
       "      <th></th>\n",
       "    </tr>\n",
       "  </thead>\n",
       "  <tbody>\n",
       "    <tr>\n",
       "      <th>Ambassador Liu Xiaoming</th>\n",
       "      <td>230.0</td>\n",
       "      <td>423.613043</td>\n",
       "      <td>673.547574</td>\n",
       "      <td>0.0</td>\n",
       "      <td>221.5</td>\n",
       "      <td>301.0</td>\n",
       "      <td>390.75</td>\n",
       "      <td>5921.0</td>\n",
       "    </tr>\n",
       "    <tr>\n",
       "      <th>Ambassador Zheng Zeguang</th>\n",
       "      <td>143.0</td>\n",
       "      <td>544.188811</td>\n",
       "      <td>709.162658</td>\n",
       "      <td>0.0</td>\n",
       "      <td>254.0</td>\n",
       "      <td>397.0</td>\n",
       "      <td>579.00</td>\n",
       "      <td>5921.0</td>\n",
       "    </tr>\n",
       "  </tbody>\n",
       "</table>\n",
       "</div>"
      ],
      "text/plain": [
       "                          count        mean         std  min    25%    50%  \\\n",
       "ambassador                                                                   \n",
       "Ambassador Liu Xiaoming   230.0  423.613043  673.547574  0.0  221.5  301.0   \n",
       "Ambassador Zheng Zeguang  143.0  544.188811  709.162658  0.0  254.0  397.0   \n",
       "\n",
       "                             75%     max  \n",
       "ambassador                                \n",
       "Ambassador Liu Xiaoming   390.75  5921.0  \n",
       "Ambassador Zheng Zeguang  579.00  5921.0  "
      ]
     },
     "execution_count": 88,
     "metadata": {},
     "output_type": "execute_result"
    }
   ],
   "source": [
    "# looking at the descriptive statistics for body length\n",
    "data[\"body_length\"].groupby(data[\"ambassador\"]).describe()"
   ]
  },
  {
   "cell_type": "code",
   "execution_count": 92,
   "id": "3f3954db",
   "metadata": {},
   "outputs": [
    {
     "data": {
      "text/plain": [
       "ambassador\n",
       "Ambassador Liu Xiaoming     301\n",
       "Ambassador Zheng Zeguang    397\n",
       "Name: body_length, dtype: int64"
      ]
     },
     "execution_count": 92,
     "metadata": {},
     "output_type": "execute_result"
    }
   ],
   "source": [
    "# looking at the median for body length\n",
    "data[\"body_length\"].groupby(data[\"ambassador\"]).median()"
   ]
  },
  {
   "cell_type": "code",
   "execution_count": 100,
   "id": "ccec25de",
   "metadata": {},
   "outputs": [
    {
     "data": {
      "text/plain": [
       "ambassador\n",
       "Ambassador Liu Xiaoming     453666.334327\n",
       "Ambassador Zheng Zeguang    502911.675367\n",
       "Name: body_length, dtype: float64"
      ]
     },
     "execution_count": 100,
     "metadata": {},
     "output_type": "execute_result"
    }
   ],
   "source": [
    "# looking at variance for body length\n",
    "data[\"body_length\"].groupby(data[\"ambassador\"]).var()"
   ]
  },
  {
   "cell_type": "markdown",
   "id": "22af668c",
   "metadata": {},
   "source": [
    "### Statistical Significance Tests"
   ]
  },
  {
   "cell_type": "code",
   "execution_count": 101,
   "id": "e9dd3f49",
   "metadata": {},
   "outputs": [],
   "source": [
    "# fill in when I get a chance to figure out what's applicable here\n",
    "# I think I might buy myself the stats book as a gift so I can brush up..."
   ]
  },
  {
   "cell_type": "markdown",
   "id": "b9b599b9",
   "metadata": {},
   "source": [
    "### Looking at the distribution over time of press releases"
   ]
  },
  {
   "cell_type": "markdown",
   "id": "6dfa233b",
   "metadata": {},
   "source": [
    "#### Distributions over time"
   ]
  },
  {
   "cell_type": "code",
   "execution_count": 145,
   "id": "b67cec7c",
   "metadata": {
    "scrolled": false
   },
   "outputs": [
    {
     "data": {
      "text/plain": [
       "Text(0, 0.5, '# of press releases')"
      ]
     },
     "execution_count": 145,
     "metadata": {},
     "output_type": "execute_result"
    },
    {
     "data": {
      "image/png": "[encoded data removed]",
      "text/plain": [
       "<Figure size 432x288 with 1 Axes>"
      ]
     },
     "metadata": {
      "needs_background": "light"
     },
     "output_type": "display_data"
    }
   ],
   "source": [
    "# showing the trends in press releases over time on a yearly basis\n",
    "data.resample(\"Y\",on=\"date\").count().plot(y=\"body\")\n",
    "plt.title(\"Yearly press releases\")\n",
    "plt.legend('',frameon=False)\n",
    "plt.ylabel(\"# of press releases\")"
   ]
  },
  {
   "cell_type": "code",
   "execution_count": 147,
   "id": "7e9a6fcb",
   "metadata": {},
   "outputs": [
    {
     "data": {
      "text/plain": [
       "Text(0, 0.5, '# of press releases')"
      ]
     },
     "execution_count": 147,
     "metadata": {},
     "output_type": "execute_result"
    },
    {
     "data": {
      "image/png": "[encoded data removed]",
      "text/plain": [
       "<Figure size 432x288 with 1 Axes>"
      ]
     },
     "metadata": {
      "needs_background": "light"
     },
     "output_type": "display_data"
    }
   ],
   "source": [
    "# showing the trends in press releases over time on a monthly basis\n",
    "data.resample(\"M\",on=\"date\").count().plot(y=\"body\")\n",
    "plt.title(\"Monthly press releases\")\n",
    "plt.legend('',frameon=False)\n",
    "plt.ylabel(\"# of press releases\")"
   ]
  },
  {
   "cell_type": "markdown",
   "id": "7bcb06d3",
   "metadata": {},
   "source": [
    "#### Yearly distribution"
   ]
  },
  {
   "cell_type": "code",
   "execution_count": null,
   "id": "6ca8458e",
   "metadata": {},
   "outputs": [],
   "source": [
    "# I want a graph that shows when things happened; \n",
    "# I want to have a different color for different ambassadors...we'll have to figure out how to show that\n",
    "# that requires having the y1 and y2 of each ambassador and plotting on the x-axis of the dates..."
   ]
  },
  {
   "cell_type": "code",
   "execution_count": 219,
   "id": "39ca3c03",
   "metadata": {},
   "outputs": [
    {
     "data": {
      "text/html": [
       "<div>\n",
       "<style scoped>\n",
       "    .dataframe tbody tr th:only-of-type {\n",
       "        vertical-align: middle;\n",
       "    }\n",
       "\n",
       "    .dataframe tbody tr th {\n",
       "        vertical-align: top;\n",
       "    }\n",
       "\n",
       "    .dataframe thead th {\n",
       "        text-align: right;\n",
       "    }\n",
       "</style>\n",
       "<table border=\"1\" class=\"dataframe\">\n",
       "  <thead>\n",
       "    <tr style=\"text-align: right;\">\n",
       "      <th></th>\n",
       "      <th></th>\n",
       "      <th>date</th>\n",
       "      <th>ambassador</th>\n",
       "    </tr>\n",
       "    <tr>\n",
       "      <th>ambassador</th>\n",
       "      <th>date</th>\n",
       "      <th></th>\n",
       "      <th></th>\n",
       "    </tr>\n",
       "  </thead>\n",
       "  <tbody>\n",
       "    <tr>\n",
       "      <th rowspan=\"13\" valign=\"top\">Ambassador Liu Xiaoming</th>\n",
       "      <th>2009-12-31</th>\n",
       "      <td>4</td>\n",
       "      <td>4</td>\n",
       "    </tr>\n",
       "    <tr>\n",
       "      <th>2010-12-31</th>\n",
       "      <td>32</td>\n",
       "      <td>32</td>\n",
       "    </tr>\n",
       "    <tr>\n",
       "      <th>2011-12-31</th>\n",
       "      <td>0</td>\n",
       "      <td>0</td>\n",
       "    </tr>\n",
       "    <tr>\n",
       "      <th>2012-12-31</th>\n",
       "      <td>9</td>\n",
       "      <td>9</td>\n",
       "    </tr>\n",
       "    <tr>\n",
       "      <th>2013-12-31</th>\n",
       "      <td>11</td>\n",
       "      <td>11</td>\n",
       "    </tr>\n",
       "    <tr>\n",
       "      <th>2014-12-31</th>\n",
       "      <td>12</td>\n",
       "      <td>12</td>\n",
       "    </tr>\n",
       "    <tr>\n",
       "      <th>2015-12-31</th>\n",
       "      <td>2</td>\n",
       "      <td>2</td>\n",
       "    </tr>\n",
       "    <tr>\n",
       "      <th>2016-12-31</th>\n",
       "      <td>0</td>\n",
       "      <td>0</td>\n",
       "    </tr>\n",
       "    <tr>\n",
       "      <th>2017-12-31</th>\n",
       "      <td>0</td>\n",
       "      <td>0</td>\n",
       "    </tr>\n",
       "    <tr>\n",
       "      <th>2018-12-31</th>\n",
       "      <td>17</td>\n",
       "      <td>17</td>\n",
       "    </tr>\n",
       "    <tr>\n",
       "      <th>2019-12-31</th>\n",
       "      <td>16</td>\n",
       "      <td>16</td>\n",
       "    </tr>\n",
       "    <tr>\n",
       "      <th>2020-12-31</th>\n",
       "      <td>84</td>\n",
       "      <td>84</td>\n",
       "    </tr>\n",
       "    <tr>\n",
       "      <th>2021-12-31</th>\n",
       "      <td>19</td>\n",
       "      <td>19</td>\n",
       "    </tr>\n",
       "    <tr>\n",
       "      <th rowspan=\"12\" valign=\"top\">Ambassador Zheng Zeguang</th>\n",
       "      <th>2010-12-31</th>\n",
       "      <td>2</td>\n",
       "      <td>2</td>\n",
       "    </tr>\n",
       "    <tr>\n",
       "      <th>2011-12-31</th>\n",
       "      <td>0</td>\n",
       "      <td>0</td>\n",
       "    </tr>\n",
       "    <tr>\n",
       "      <th>2012-12-31</th>\n",
       "      <td>0</td>\n",
       "      <td>0</td>\n",
       "    </tr>\n",
       "    <tr>\n",
       "      <th>2013-12-31</th>\n",
       "      <td>0</td>\n",
       "      <td>0</td>\n",
       "    </tr>\n",
       "    <tr>\n",
       "      <th>2014-12-31</th>\n",
       "      <td>0</td>\n",
       "      <td>0</td>\n",
       "    </tr>\n",
       "    <tr>\n",
       "      <th>2015-12-31</th>\n",
       "      <td>0</td>\n",
       "      <td>0</td>\n",
       "    </tr>\n",
       "    <tr>\n",
       "      <th>2016-12-31</th>\n",
       "      <td>0</td>\n",
       "      <td>0</td>\n",
       "    </tr>\n",
       "    <tr>\n",
       "      <th>2017-12-31</th>\n",
       "      <td>0</td>\n",
       "      <td>0</td>\n",
       "    </tr>\n",
       "    <tr>\n",
       "      <th>2018-12-31</th>\n",
       "      <td>0</td>\n",
       "      <td>0</td>\n",
       "    </tr>\n",
       "    <tr>\n",
       "      <th>2019-12-31</th>\n",
       "      <td>0</td>\n",
       "      <td>0</td>\n",
       "    </tr>\n",
       "    <tr>\n",
       "      <th>2020-12-31</th>\n",
       "      <td>34</td>\n",
       "      <td>34</td>\n",
       "    </tr>\n",
       "    <tr>\n",
       "      <th>2021-12-31</th>\n",
       "      <td>107</td>\n",
       "      <td>107</td>\n",
       "    </tr>\n",
       "  </tbody>\n",
       "</table>\n",
       "</div>"
      ],
      "text/plain": [
       "                                     date  ambassador\n",
       "ambassador               date                        \n",
       "Ambassador Liu Xiaoming  2009-12-31     4           4\n",
       "                         2010-12-31    32          32\n",
       "                         2011-12-31     0           0\n",
       "                         2012-12-31     9           9\n",
       "                         2013-12-31    11          11\n",
       "                         2014-12-31    12          12\n",
       "                         2015-12-31     2           2\n",
       "                         2016-12-31     0           0\n",
       "                         2017-12-31     0           0\n",
       "                         2018-12-31    17          17\n",
       "                         2019-12-31    16          16\n",
       "                         2020-12-31    84          84\n",
       "                         2021-12-31    19          19\n",
       "Ambassador Zheng Zeguang 2010-12-31     2           2\n",
       "                         2011-12-31     0           0\n",
       "                         2012-12-31     0           0\n",
       "                         2013-12-31     0           0\n",
       "                         2014-12-31     0           0\n",
       "                         2015-12-31     0           0\n",
       "                         2016-12-31     0           0\n",
       "                         2017-12-31     0           0\n",
       "                         2018-12-31     0           0\n",
       "                         2019-12-31     0           0\n",
       "                         2020-12-31    34          34\n",
       "                         2021-12-31   107         107"
      ]
     },
     "execution_count": 219,
     "metadata": {},
     "output_type": "execute_result"
    }
   ],
   "source": [
    "# by taking two columns, grouping them, and then resampling them, while taking the count, we can find the yearly count\n",
    "# grouping by ambassador allows for an easy showing of the count by year\n",
    "data[[\"date\",\"ambassador\"]].groupby(data[\"ambassador\"]).resample(\"Y\", on=\"date\").count()"
   ]
  },
  {
   "cell_type": "code",
   "execution_count": 237,
   "id": "1d43a453",
   "metadata": {},
   "outputs": [
    {
     "data": {
      "text/plain": [
       "<AxesSubplot:xlabel='date'>"
      ]
     },
     "execution_count": 237,
     "metadata": {},
     "output_type": "execute_result"
    },
    {
     "data": {
      "image/png": "[encoded data removed]",
      "text/plain": [
       "<Figure size 432x288 with 1 Axes>"
      ]
     },
     "metadata": {
      "needs_background": "light"
     },
     "output_type": "display_data"
    }
   ],
   "source": [
    "# by unstacking the resampling by ambasador & then selecting the date column & plotting it, we can show the yearly trend\n",
    "grouped = data[[\"date\",\"ambassador\"]].groupby(data[\"ambassador\"]).resample(\"Y\", on=\"date\").count()\n",
    "grouped.unstack(\"ambassador\",fill_value=0)[\"date\"].plot()"
   ]
  },
  {
   "cell_type": "markdown",
   "id": "c81abed7",
   "metadata": {},
   "source": [
    "Looking at the both the table of yearly trends and the graph, we can see some problems in the data. It has some errors in it from the standpoint of who was Ambassador and when. Ambassador Zheng Zeguang didn't assume office until June 2021 so the two releases under him in 2010 are...questionable. I suspect they are likely artifacts resulting from the way that the releases are stored/retrieved from the wayback machine. It's important to look in greater detail at the monthly distribution to se how that is patterned as Ambassador Liu Xiaoming left his office at the end of January 2021. \n",
    "\n",
    "An additional problem with the data is it likely has gaps. It is improbable that there were no press releases between 2015 and 2018 by the PRC Embassy in the UK and Ireland. Unfortunately, the Wayback Machine isn't a comprehensive records of press releases and barring a better data source hitherto unfound, this is the best we can work with here. "
   ]
  },
  {
   "cell_type": "markdown",
   "id": "6f676d7a",
   "metadata": {},
   "source": [
    "#### Monthly Distribution"
   ]
  },
  {
   "cell_type": "markdown",
   "id": "7f660e0d",
   "metadata": {},
   "source": [
    "We're starting with the monthly distribution for 2021 alone to examine how it is distributed and see if it matches the reality of who was ambassador. "
   ]
  },
  {
   "cell_type": "code",
   "execution_count": 269,
   "id": "4bb45ac0",
   "metadata": {},
   "outputs": [],
   "source": [
    "# starting by filtering the data down to just 2021, then using a groupby and resampling on a monthly basis\n",
    "monthly = data.loc[data[\"date\"] > \"2020-12-31\",[\"date\",\"ambassador\"]].groupby(data[\"ambassador\"]).resample(\"M\", on=\"date\").count()\n",
    "# going ahead and unstacking\n",
    "monthly = monthly.unstack(\"ambassador\",fill_value=0)[\"date\"]"
   ]
  },
  {
   "cell_type": "code",
   "execution_count": 271,
   "id": "89fd0131",
   "metadata": {},
   "outputs": [
    {
     "data": {
      "text/html": [
       "<div>\n",
       "<style scoped>\n",
       "    .dataframe tbody tr th:only-of-type {\n",
       "        vertical-align: middle;\n",
       "    }\n",
       "\n",
       "    .dataframe tbody tr th {\n",
       "        vertical-align: top;\n",
       "    }\n",
       "\n",
       "    .dataframe thead th {\n",
       "        text-align: right;\n",
       "    }\n",
       "</style>\n",
       "<table border=\"1\" class=\"dataframe\">\n",
       "  <thead>\n",
       "    <tr style=\"text-align: right;\">\n",
       "      <th>ambassador</th>\n",
       "      <th>Ambassador Liu Xiaoming</th>\n",
       "      <th>Ambassador Zheng Zeguang</th>\n",
       "    </tr>\n",
       "    <tr>\n",
       "      <th>date</th>\n",
       "      <th></th>\n",
       "      <th></th>\n",
       "    </tr>\n",
       "  </thead>\n",
       "  <tbody>\n",
       "    <tr>\n",
       "      <th>2021-01-31</th>\n",
       "      <td>4</td>\n",
       "      <td>2</td>\n",
       "    </tr>\n",
       "    <tr>\n",
       "      <th>2021-02-28</th>\n",
       "      <td>9</td>\n",
       "      <td>4</td>\n",
       "    </tr>\n",
       "    <tr>\n",
       "      <th>2021-03-31</th>\n",
       "      <td>4</td>\n",
       "      <td>1</td>\n",
       "    </tr>\n",
       "    <tr>\n",
       "      <th>2021-04-30</th>\n",
       "      <td>2</td>\n",
       "      <td>1</td>\n",
       "    </tr>\n",
       "    <tr>\n",
       "      <th>2021-05-31</th>\n",
       "      <td>0</td>\n",
       "      <td>0</td>\n",
       "    </tr>\n",
       "    <tr>\n",
       "      <th>2021-06-30</th>\n",
       "      <td>0</td>\n",
       "      <td>10</td>\n",
       "    </tr>\n",
       "    <tr>\n",
       "      <th>2021-07-31</th>\n",
       "      <td>0</td>\n",
       "      <td>8</td>\n",
       "    </tr>\n",
       "    <tr>\n",
       "      <th>2021-08-31</th>\n",
       "      <td>0</td>\n",
       "      <td>11</td>\n",
       "    </tr>\n",
       "    <tr>\n",
       "      <th>2021-09-30</th>\n",
       "      <td>0</td>\n",
       "      <td>16</td>\n",
       "    </tr>\n",
       "    <tr>\n",
       "      <th>2021-10-31</th>\n",
       "      <td>0</td>\n",
       "      <td>25</td>\n",
       "    </tr>\n",
       "    <tr>\n",
       "      <th>2021-11-30</th>\n",
       "      <td>0</td>\n",
       "      <td>9</td>\n",
       "    </tr>\n",
       "    <tr>\n",
       "      <th>2021-12-31</th>\n",
       "      <td>0</td>\n",
       "      <td>20</td>\n",
       "    </tr>\n",
       "  </tbody>\n",
       "</table>\n",
       "</div>"
      ],
      "text/plain": [
       "ambassador  Ambassador Liu Xiaoming  Ambassador Zheng Zeguang\n",
       "date                                                         \n",
       "2021-01-31                        4                         2\n",
       "2021-02-28                        9                         4\n",
       "2021-03-31                        4                         1\n",
       "2021-04-30                        2                         1\n",
       "2021-05-31                        0                         0\n",
       "2021-06-30                        0                        10\n",
       "2021-07-31                        0                         8\n",
       "2021-08-31                        0                        11\n",
       "2021-09-30                        0                        16\n",
       "2021-10-31                        0                        25\n",
       "2021-11-30                        0                         9\n",
       "2021-12-31                        0                        20"
      ]
     },
     "execution_count": 271,
     "metadata": {},
     "output_type": "execute_result"
    }
   ],
   "source": [
    "# printing the monthly count\n",
    "monthly"
   ]
  },
  {
   "cell_type": "code",
   "execution_count": 270,
   "id": "5fb82ad5",
   "metadata": {},
   "outputs": [
    {
     "data": {
      "text/plain": [
       "<AxesSubplot:xlabel='date'>"
      ]
     },
     "execution_count": 270,
     "metadata": {},
     "output_type": "execute_result"
    },
    {
     "data": {
      "image/png": "[encoded data removed]",
      "text/plain": [
       "<Figure size 432x288 with 1 Axes>"
      ]
     },
     "metadata": {
      "needs_background": "light"
     },
     "output_type": "display_data"
    }
   ],
   "source": [
    "# plotting the monthly count\n",
    "monthly.plot()"
   ]
  },
  {
   "cell_type": "markdown",
   "id": "b61075b9",
   "metadata": {},
   "source": [
    "Looking at the monthly plot and table, it's immediately clear there are issues in the data here. The current ambassador has releases attributed to him before he started and the prior ambassador has releases attributed to him after he stepped out of his position. "
   ]
  },
  {
   "cell_type": "markdown",
   "id": "0827b976",
   "metadata": {},
   "source": [
    "### Trends in title & body length over time"
   ]
  },
  {
   "cell_type": "markdown",
   "id": "545ecee0",
   "metadata": {},
   "source": [
    "#### Looking at trends within title and body length over time"
   ]
  },
  {
   "cell_type": "code",
   "execution_count": 108,
   "id": "cb384303",
   "metadata": {},
   "outputs": [
    {
     "data": {
      "text/plain": [
       "<AxesSubplot:xlabel='date'>"
      ]
     },
     "execution_count": 108,
     "metadata": {},
     "output_type": "execute_result"
    },
    {
     "data": {
      "image/png": "[encoded data removed]",
      "text/plain": [
       "<Figure size 432x288 with 1 Axes>"
      ]
     },
     "metadata": {
      "needs_background": "light"
     },
     "output_type": "display_data"
    }
   ],
   "source": [
    "# exploring the time series data of the title length\n",
    "data.plot(x=\"date\",y=\"title_length\")"
   ]
  },
  {
   "cell_type": "code",
   "execution_count": 107,
   "id": "3512ad30",
   "metadata": {},
   "outputs": [
    {
     "data": {
      "text/plain": [
       "<AxesSubplot:xlabel='date'>"
      ]
     },
     "execution_count": 107,
     "metadata": {},
     "output_type": "execute_result"
    },
    {
     "data": {
      "image/png": "[encoded data removed]",
      "text/plain": [
       "<Figure size 432x288 with 1 Axes>"
      ]
     },
     "metadata": {
      "needs_background": "light"
     },
     "output_type": "display_data"
    }
   ],
   "source": [
    "# exploring the time series data of the body length\n",
    "data.plot(x=\"date\",y=\"body_length\")"
   ]
  },
  {
   "cell_type": "markdown",
   "id": "8878babb",
   "metadata": {},
   "source": [
    "#### Mean title & body length over time"
   ]
  },
  {
   "cell_type": "code",
   "execution_count": 280,
   "id": "3dd8dfbb",
   "metadata": {},
   "outputs": [
    {
     "data": {
      "text/plain": [
       "<AxesSubplot:xlabel='date'>"
      ]
     },
     "execution_count": 280,
     "metadata": {},
     "output_type": "execute_result"
    },
    {
     "data": {
      "image/png": "[encoded data removed]",
      "text/plain": [
       "<Figure size 432x288 with 1 Axes>"
      ]
     },
     "metadata": {
      "needs_background": "light"
     },
     "output_type": "display_data"
    }
   ],
   "source": [
    "# looking at the mean title length over time\n",
    "data.resample(\"Y\", on=\"date\").mean().fillna(0).plot(y=\"title_length\")"
   ]
  },
  {
   "cell_type": "code",
   "execution_count": 281,
   "id": "e1ff8cfc",
   "metadata": {},
   "outputs": [
    {
     "data": {
      "text/plain": [
       "<AxesSubplot:xlabel='date'>"
      ]
     },
     "execution_count": 281,
     "metadata": {},
     "output_type": "execute_result"
    },
    {
     "data": {
      "image/png": "[encoded data removed]",
      "text/plain": [
       "<Figure size 432x288 with 1 Axes>"
      ]
     },
     "metadata": {
      "needs_background": "light"
     },
     "output_type": "display_data"
    }
   ],
   "source": [
    "# looking at the mean body length over time\n",
    "data.resample(\"Y\", on=\"date\").mean().fillna(0).plot(y=\"body_length\")"
   ]
  },
  {
   "cell_type": "markdown",
   "id": "05c55d4a",
   "metadata": {},
   "source": [
    "Looking at these, it's fairly clear that the title length is stable over time. Again, this isn't too surprising. The body length seems to be likewise stable over time at least until around 2021. This isn't surprising as it matches the difference we observe between in the descriptive statistics when the data is grouped by ambassador. "
   ]
  },
  {
   "cell_type": "markdown",
   "id": "57e2c47d",
   "metadata": {},
   "source": [
    "#### Looking at Title & Body Length by Ambassador"
   ]
  },
  {
   "cell_type": "code",
   "execution_count": null,
   "id": "fa2278bb",
   "metadata": {},
   "outputs": [],
   "source": []
  }
 ],
 "metadata": {
  "kernelspec": {
   "display_name": "Python 3",
   "language": "python",
   "name": "python3"
  },
  "language_info": {
   "codemirror_mode": {
    "name": "ipython",
    "version": 3
   },
   "file_extension": ".py",
   "mimetype": "text/x-python",
   "name": "python",
   "nbconvert_exporter": "python",
   "pygments_lexer": "ipython3",
   "version": "3.8.8"
  }
 },
 "nbformat": 4,
 "nbformat_minor": 5
}

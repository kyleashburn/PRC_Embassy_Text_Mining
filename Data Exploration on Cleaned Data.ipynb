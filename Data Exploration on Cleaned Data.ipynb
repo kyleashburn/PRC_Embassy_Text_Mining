{
 "cells": [
  {
   "cell_type": "code",
   "execution_count": 30,
   "id": "5c94450e",
   "metadata": {},
   "outputs": [],
   "source": [
    "%matplotlib inline"
   ]
  },
  {
   "cell_type": "code",
   "execution_count": 31,
   "id": "4853da1d",
   "metadata": {},
   "outputs": [],
   "source": [
    "import pandas as pd\n",
    "import matplotlib.pyplot as plt\n",
    "import seaborn as sns\n",
    "import numpy as np\n",
    "import fasttext\n",
    "from pycountry import languages\n",
    "import re\n",
    "\n"
   ]
  },
  {
   "cell_type": "code",
   "execution_count": 32,
   "id": "58ef09b4",
   "metadata": {},
   "outputs": [],
   "source": [
    "# reading in the cleaned data\n",
    "data = pd.read_json(\"PRC-UK_Embassy_press_releases_cleaned.ndjson\",lines=True)"
   ]
  },
  {
   "cell_type": "code",
   "execution_count": 33,
   "id": "f12035d4",
   "metadata": {
    "scrolled": true
   },
   "outputs": [
    {
     "data": {
      "text/html": [
       "<div>\n",
       "<style scoped>\n",
       "    .dataframe tbody tr th:only-of-type {\n",
       "        vertical-align: middle;\n",
       "    }\n",
       "\n",
       "    .dataframe tbody tr th {\n",
       "        vertical-align: top;\n",
       "    }\n",
       "\n",
       "    .dataframe thead th {\n",
       "        text-align: right;\n",
       "    }\n",
       "</style>\n",
       "<table border=\"1\" class=\"dataframe\">\n",
       "  <thead>\n",
       "    <tr style=\"text-align: right;\">\n",
       "      <th></th>\n",
       "      <th>storage_url</th>\n",
       "      <th>title</th>\n",
       "      <th>date</th>\n",
       "      <th>body</th>\n",
       "      <th>ambassador</th>\n",
       "      <th>title_length</th>\n",
       "      <th>body_length</th>\n",
       "    </tr>\n",
       "  </thead>\n",
       "  <tbody>\n",
       "    <tr>\n",
       "      <th>0</th>\n",
       "      <td>https://web.archive.org/web/20211130031323/htt...</td>\n",
       "      <td>Embassy Spokesperson's Remarks on Chinese oper...</td>\n",
       "      <td>2020-08-24 23:45:00</td>\n",
       "      <td>Question: According to British media's report,...</td>\n",
       "      <td>Ambassador Liu Xiaoming</td>\n",
       "      <td>9</td>\n",
       "      <td>160</td>\n",
       "    </tr>\n",
       "    <tr>\n",
       "      <th>1</th>\n",
       "      <td>https://web.archive.org/web/20211130052058/htt...</td>\n",
       "      <td>Embassy Spokesperson's Remarks on issues relat...</td>\n",
       "      <td>2020-08-25 21:03:00</td>\n",
       "      <td>Question: In an open letter, MPs will be urged...</td>\n",
       "      <td>Ambassador Liu Xiaoming</td>\n",
       "      <td>9</td>\n",
       "      <td>528</td>\n",
       "    </tr>\n",
       "    <tr>\n",
       "      <th>2</th>\n",
       "      <td>https://web.archive.org/web/20211130025452/htt...</td>\n",
       "      <td>Embassy Spokesperson's Remarks on issues relat...</td>\n",
       "      <td>2020-08-25 21:05:00</td>\n",
       "      <td>Question: A letter signed by religious leaders...</td>\n",
       "      <td>Ambassador Liu Xiaoming</td>\n",
       "      <td>9</td>\n",
       "      <td>818</td>\n",
       "    </tr>\n",
       "    <tr>\n",
       "      <th>3</th>\n",
       "      <td>https://web.archive.org/web/20211130042447/htt...</td>\n",
       "      <td>Embassy Spokesperson's Remarks on The Times' R...</td>\n",
       "      <td>2020-08-29 07:08:00</td>\n",
       "      <td>Question: On 28 August, The Times carried a re...</td>\n",
       "      <td>Ambassador Liu Xiaoming</td>\n",
       "      <td>10</td>\n",
       "      <td>506</td>\n",
       "    </tr>\n",
       "    <tr>\n",
       "      <th>4</th>\n",
       "      <td>https://web.archive.org/web/20211130054122/htt...</td>\n",
       "      <td>Embassy Spokesperson's Remarks on the Claim by...</td>\n",
       "      <td>2020-09-01 23:40:00</td>\n",
       "      <td>Question: On August 30th, Tom Tugendhat, Chair...</td>\n",
       "      <td>Ambassador Liu Xiaoming</td>\n",
       "      <td>15</td>\n",
       "      <td>314</td>\n",
       "    </tr>\n",
       "  </tbody>\n",
       "</table>\n",
       "</div>"
      ],
      "text/plain": [
       "                                         storage_url  \\\n",
       "0  https://web.archive.org/web/20211130031323/htt...   \n",
       "1  https://web.archive.org/web/20211130052058/htt...   \n",
       "2  https://web.archive.org/web/20211130025452/htt...   \n",
       "3  https://web.archive.org/web/20211130042447/htt...   \n",
       "4  https://web.archive.org/web/20211130054122/htt...   \n",
       "\n",
       "                                               title                date  \\\n",
       "0  Embassy Spokesperson's Remarks on Chinese oper... 2020-08-24 23:45:00   \n",
       "1  Embassy Spokesperson's Remarks on issues relat... 2020-08-25 21:03:00   \n",
       "2  Embassy Spokesperson's Remarks on issues relat... 2020-08-25 21:05:00   \n",
       "3  Embassy Spokesperson's Remarks on The Times' R... 2020-08-29 07:08:00   \n",
       "4  Embassy Spokesperson's Remarks on the Claim by... 2020-09-01 23:40:00   \n",
       "\n",
       "                                                body               ambassador  \\\n",
       "0  Question: According to British media's report,...  Ambassador Liu Xiaoming   \n",
       "1  Question: In an open letter, MPs will be urged...  Ambassador Liu Xiaoming   \n",
       "2  Question: A letter signed by religious leaders...  Ambassador Liu Xiaoming   \n",
       "3  Question: On 28 August, The Times carried a re...  Ambassador Liu Xiaoming   \n",
       "4  Question: On August 30th, Tom Tugendhat, Chair...  Ambassador Liu Xiaoming   \n",
       "\n",
       "   title_length  body_length  \n",
       "0             9          160  \n",
       "1             9          528  \n",
       "2             9          818  \n",
       "3            10          506  \n",
       "4            15          314  "
      ]
     },
     "execution_count": 33,
     "metadata": {},
     "output_type": "execute_result"
    }
   ],
   "source": [
    "# checking the format of the data\n",
    "data.head()"
   ]
  },
  {
   "cell_type": "markdown",
   "id": "48bf9055",
   "metadata": {},
   "source": [
    "### Exploring the distribution of Ambassador"
   ]
  },
  {
   "cell_type": "code",
   "execution_count": 35,
   "id": "aade338a",
   "metadata": {},
   "outputs": [
    {
     "data": {
      "text/plain": [
       "Ambassador Liu Xiaoming     253\n",
       "Ambassador Zheng Zeguang     97\n",
       "Vacant                       23\n",
       "Name: ambassador, dtype: int64"
      ]
     },
     "execution_count": 35,
     "metadata": {},
     "output_type": "execute_result"
    },
    {
     "data": {
      "image/png": "[encoded data removed]",
      "text/plain": [
       "<Figure size 432x288 with 1 Axes>"
      ]
     },
     "metadata": {},
     "output_type": "display_data"
    }
   ],
   "source": [
    "# comparing the appearances of Ambassador within the dataset\n",
    "data[\"ambassador\"].value_counts().plot.pie()\n",
    "data[\"ambassador\"].value_counts()"
   ]
  },
  {
   "cell_type": "markdown",
   "id": "d70c3b71",
   "metadata": {},
   "source": [
    "### Exploring the Title and Body length"
   ]
  },
  {
   "cell_type": "markdown",
   "id": "28aff4b2",
   "metadata": {},
   "source": [
    "#### Title Length"
   ]
  },
  {
   "cell_type": "code",
   "execution_count": 5,
   "id": "7ade09fd",
   "metadata": {},
   "outputs": [
    {
     "data": {
      "image/png": "[encoded data removed]",
      "text/plain": [
       "<Figure size 432x288 with 1 Axes>"
      ]
     },
     "metadata": {
      "needs_background": "light"
     },
     "output_type": "display_data"
    }
   ],
   "source": [
    "# basic exploration of title length\n",
    "data[\"title_length\"].plot.hist()\n",
    "plt.title(\"Title Length Distribution\")\n",
    "plt.ylabel(\"Count\")\n",
    "plt.xlabel(\"Length in Words\")\n",
    "plt.show()"
   ]
  },
  {
   "cell_type": "code",
   "execution_count": 6,
   "id": "b580ff2a",
   "metadata": {},
   "outputs": [
    {
     "data": {
      "image/png": "[encoded data removed]",
      "text/plain": [
       "<Figure size 432x288 with 1 Axes>"
      ]
     },
     "metadata": {
      "needs_background": "light"
     },
     "output_type": "display_data"
    }
   ],
   "source": [
    "# exploring the distribution of title length with higher granularity\n",
    "data[\"title_length\"].plot.hist(bins=len(data[\"title_length\"].value_counts()))\n",
    "plt.title(\"Title Length Distribution\")\n",
    "plt.ylabel(\"Count\")\n",
    "plt.xlabel(\"Length in Words\")\n",
    "plt.show()"
   ]
  },
  {
   "cell_type": "markdown",
   "id": "a8801eae",
   "metadata": {},
   "source": [
    "These both show that the length in words for the titles tend to cluster around 10 to around 15 words."
   ]
  },
  {
   "cell_type": "markdown",
   "id": "2f739a73",
   "metadata": {},
   "source": [
    "#### Body Length"
   ]
  },
  {
   "cell_type": "code",
   "execution_count": 7,
   "id": "b59b38f1",
   "metadata": {},
   "outputs": [
    {
     "data": {
      "image/png": "[encoded data removed]",
      "text/plain": [
       "<Figure size 432x288 with 1 Axes>"
      ]
     },
     "metadata": {
      "needs_background": "light"
     },
     "output_type": "display_data"
    }
   ],
   "source": [
    "data[\"body_length\"].plot.hist()\n",
    "plt.title(\"Body Length Distribution\")\n",
    "plt.ylabel(\"Count\")\n",
    "plt.xlabel(\"Length in Words\")\n",
    "plt.show()"
   ]
  },
  {
   "cell_type": "code",
   "execution_count": 8,
   "id": "12bae376",
   "metadata": {},
   "outputs": [
    {
     "data": {
      "image/png": "[encoded data removed]",
      "text/plain": [
       "<Figure size 432x288 with 1 Axes>"
      ]
     },
     "metadata": {
      "needs_background": "light"
     },
     "output_type": "display_data"
    }
   ],
   "source": [
    "data[\"body_length\"].plot.hist(bins=50)\n",
    "plt.title(\"Body Length Distribution\")\n",
    "plt.ylabel(\"Count\")\n",
    "plt.xlabel(\"Length in Words\")\n",
    "plt.show()"
   ]
  },
  {
   "cell_type": "markdown",
   "id": "8aa846d9",
   "metadata": {},
   "source": [
    "These show that the press releases are generally around 400-800 words in length."
   ]
  },
  {
   "cell_type": "markdown",
   "id": "3ade2399",
   "metadata": {},
   "source": [
    "### Comparing Ambassadors on the descriptive statistics for title and body length"
   ]
  },
  {
   "cell_type": "markdown",
   "id": "72cd6531",
   "metadata": {},
   "source": [
    "#### Looking at title length in a little greater detail"
   ]
  },
  {
   "cell_type": "code",
   "execution_count": 9,
   "id": "df1532fa",
   "metadata": {},
   "outputs": [
    {
     "data": {
      "text/html": [
       "<div>\n",
       "<style scoped>\n",
       "    .dataframe tbody tr th:only-of-type {\n",
       "        vertical-align: middle;\n",
       "    }\n",
       "\n",
       "    .dataframe tbody tr th {\n",
       "        vertical-align: top;\n",
       "    }\n",
       "\n",
       "    .dataframe thead th {\n",
       "        text-align: right;\n",
       "    }\n",
       "</style>\n",
       "<table border=\"1\" class=\"dataframe\">\n",
       "  <thead>\n",
       "    <tr style=\"text-align: right;\">\n",
       "      <th></th>\n",
       "      <th>count</th>\n",
       "      <th>mean</th>\n",
       "      <th>std</th>\n",
       "      <th>min</th>\n",
       "      <th>25%</th>\n",
       "      <th>50%</th>\n",
       "      <th>75%</th>\n",
       "      <th>max</th>\n",
       "    </tr>\n",
       "    <tr>\n",
       "      <th>ambassador</th>\n",
       "      <th></th>\n",
       "      <th></th>\n",
       "      <th></th>\n",
       "      <th></th>\n",
       "      <th></th>\n",
       "      <th></th>\n",
       "      <th></th>\n",
       "      <th></th>\n",
       "    </tr>\n",
       "  </thead>\n",
       "  <tbody>\n",
       "    <tr>\n",
       "      <th>Ambassador Liu Xiaoming</th>\n",
       "      <td>253.0</td>\n",
       "      <td>13.474308</td>\n",
       "      <td>5.867953</td>\n",
       "      <td>3.0</td>\n",
       "      <td>10.0</td>\n",
       "      <td>12.0</td>\n",
       "      <td>16.0</td>\n",
       "      <td>36.0</td>\n",
       "    </tr>\n",
       "    <tr>\n",
       "      <th>Ambassador Zheng Zeguang</th>\n",
       "      <td>97.0</td>\n",
       "      <td>12.927835</td>\n",
       "      <td>4.279913</td>\n",
       "      <td>7.0</td>\n",
       "      <td>10.0</td>\n",
       "      <td>13.0</td>\n",
       "      <td>16.0</td>\n",
       "      <td>30.0</td>\n",
       "    </tr>\n",
       "    <tr>\n",
       "      <th>Vacant</th>\n",
       "      <td>23.0</td>\n",
       "      <td>15.391304</td>\n",
       "      <td>5.475060</td>\n",
       "      <td>8.0</td>\n",
       "      <td>12.0</td>\n",
       "      <td>15.0</td>\n",
       "      <td>17.5</td>\n",
       "      <td>31.0</td>\n",
       "    </tr>\n",
       "  </tbody>\n",
       "</table>\n",
       "</div>"
      ],
      "text/plain": [
       "                          count       mean       std  min   25%   50%   75%  \\\n",
       "ambassador                                                                    \n",
       "Ambassador Liu Xiaoming   253.0  13.474308  5.867953  3.0  10.0  12.0  16.0   \n",
       "Ambassador Zheng Zeguang   97.0  12.927835  4.279913  7.0  10.0  13.0  16.0   \n",
       "Vacant                     23.0  15.391304  5.475060  8.0  12.0  15.0  17.5   \n",
       "\n",
       "                           max  \n",
       "ambassador                      \n",
       "Ambassador Liu Xiaoming   36.0  \n",
       "Ambassador Zheng Zeguang  30.0  \n",
       "Vacant                    31.0  "
      ]
     },
     "execution_count": 9,
     "metadata": {},
     "output_type": "execute_result"
    }
   ],
   "source": [
    "# looking at the descriptive statistics for title length\n",
    "data[\"title_length\"].groupby(data[\"ambassador\"]).describe()"
   ]
  },
  {
   "cell_type": "code",
   "execution_count": 10,
   "id": "dfa31381",
   "metadata": {},
   "outputs": [
    {
     "data": {
      "text/plain": [
       "ambassador\n",
       "Ambassador Liu Xiaoming     12\n",
       "Ambassador Zheng Zeguang    13\n",
       "Vacant                      15\n",
       "Name: title_length, dtype: int64"
      ]
     },
     "execution_count": 10,
     "metadata": {},
     "output_type": "execute_result"
    }
   ],
   "source": [
    "# looking at the median for title length\n",
    "data[\"title_length\"].groupby(data[\"ambassador\"]).median()"
   ]
  },
  {
   "cell_type": "code",
   "execution_count": 11,
   "id": "bb36a961",
   "metadata": {},
   "outputs": [
    {
     "data": {
      "text/plain": [
       "ambassador\n",
       "Ambassador Liu Xiaoming     34.432869\n",
       "Ambassador Zheng Zeguang    18.317655\n",
       "Vacant                      29.976285\n",
       "Name: title_length, dtype: float64"
      ]
     },
     "execution_count": 11,
     "metadata": {},
     "output_type": "execute_result"
    }
   ],
   "source": [
    "# looking at the variance for title length\n",
    "data[\"title_length\"].groupby(data[\"ambassador\"]).var()"
   ]
  },
  {
   "cell_type": "markdown",
   "id": "2001dbd0",
   "metadata": {},
   "source": [
    "#### Looking at body length in a little greater detail"
   ]
  },
  {
   "cell_type": "code",
   "execution_count": 12,
   "id": "89787fe9",
   "metadata": {},
   "outputs": [
    {
     "data": {
      "text/html": [
       "<div>\n",
       "<style scoped>\n",
       "    .dataframe tbody tr th:only-of-type {\n",
       "        vertical-align: middle;\n",
       "    }\n",
       "\n",
       "    .dataframe tbody tr th {\n",
       "        vertical-align: top;\n",
       "    }\n",
       "\n",
       "    .dataframe thead th {\n",
       "        text-align: right;\n",
       "    }\n",
       "</style>\n",
       "<table border=\"1\" class=\"dataframe\">\n",
       "  <thead>\n",
       "    <tr style=\"text-align: right;\">\n",
       "      <th></th>\n",
       "      <th>count</th>\n",
       "      <th>mean</th>\n",
       "      <th>std</th>\n",
       "      <th>min</th>\n",
       "      <th>25%</th>\n",
       "      <th>50%</th>\n",
       "      <th>75%</th>\n",
       "      <th>max</th>\n",
       "    </tr>\n",
       "    <tr>\n",
       "      <th>ambassador</th>\n",
       "      <th></th>\n",
       "      <th></th>\n",
       "      <th></th>\n",
       "      <th></th>\n",
       "      <th></th>\n",
       "      <th></th>\n",
       "      <th></th>\n",
       "      <th></th>\n",
       "    </tr>\n",
       "  </thead>\n",
       "  <tbody>\n",
       "    <tr>\n",
       "      <th>Ambassador Liu Xiaoming</th>\n",
       "      <td>253.0</td>\n",
       "      <td>479.486166</td>\n",
       "      <td>812.070832</td>\n",
       "      <td>0.0</td>\n",
       "      <td>223.0</td>\n",
       "      <td>304.0</td>\n",
       "      <td>418.0</td>\n",
       "      <td>5921.0</td>\n",
       "    </tr>\n",
       "    <tr>\n",
       "      <th>Ambassador Zheng Zeguang</th>\n",
       "      <td>97.0</td>\n",
       "      <td>468.721649</td>\n",
       "      <td>310.723542</td>\n",
       "      <td>128.0</td>\n",
       "      <td>268.0</td>\n",
       "      <td>397.0</td>\n",
       "      <td>555.0</td>\n",
       "      <td>1926.0</td>\n",
       "    </tr>\n",
       "    <tr>\n",
       "      <th>Vacant</th>\n",
       "      <td>23.0</td>\n",
       "      <td>368.434783</td>\n",
       "      <td>199.139701</td>\n",
       "      <td>111.0</td>\n",
       "      <td>221.0</td>\n",
       "      <td>320.0</td>\n",
       "      <td>539.5</td>\n",
       "      <td>715.0</td>\n",
       "    </tr>\n",
       "  </tbody>\n",
       "</table>\n",
       "</div>"
      ],
      "text/plain": [
       "                          count        mean         std    min    25%    50%  \\\n",
       "ambassador                                                                     \n",
       "Ambassador Liu Xiaoming   253.0  479.486166  812.070832    0.0  223.0  304.0   \n",
       "Ambassador Zheng Zeguang   97.0  468.721649  310.723542  128.0  268.0  397.0   \n",
       "Vacant                     23.0  368.434783  199.139701  111.0  221.0  320.0   \n",
       "\n",
       "                            75%     max  \n",
       "ambassador                               \n",
       "Ambassador Liu Xiaoming   418.0  5921.0  \n",
       "Ambassador Zheng Zeguang  555.0  1926.0  \n",
       "Vacant                    539.5   715.0  "
      ]
     },
     "execution_count": 12,
     "metadata": {},
     "output_type": "execute_result"
    }
   ],
   "source": [
    "# looking at the descriptive statistics for body length\n",
    "data[\"body_length\"].groupby(data[\"ambassador\"]).describe()"
   ]
  },
  {
   "cell_type": "code",
   "execution_count": 13,
   "id": "5e6f6021",
   "metadata": {},
   "outputs": [
    {
     "data": {
      "text/plain": [
       "ambassador\n",
       "Ambassador Liu Xiaoming     304\n",
       "Ambassador Zheng Zeguang    397\n",
       "Vacant                      320\n",
       "Name: body_length, dtype: int64"
      ]
     },
     "execution_count": 13,
     "metadata": {},
     "output_type": "execute_result"
    }
   ],
   "source": [
    "# looking at the median for body length\n",
    "data[\"body_length\"].groupby(data[\"ambassador\"]).median()"
   ]
  },
  {
   "cell_type": "code",
   "execution_count": 14,
   "id": "ebd3c41a",
   "metadata": {},
   "outputs": [
    {
     "data": {
      "text/plain": [
       "ambassador\n",
       "Ambassador Liu Xiaoming     659459.036514\n",
       "Ambassador Zheng Zeguang     96549.119631\n",
       "Vacant                       39656.620553\n",
       "Name: body_length, dtype: float64"
      ]
     },
     "execution_count": 14,
     "metadata": {},
     "output_type": "execute_result"
    }
   ],
   "source": [
    "# looking at variance for body length\n",
    "data[\"body_length\"].groupby(data[\"ambassador\"]).var()"
   ]
  },
  {
   "cell_type": "markdown",
   "id": "46dcb611",
   "metadata": {},
   "source": [
    "### Statistical Significance Tests"
   ]
  },
  {
   "cell_type": "code",
   "execution_count": 15,
   "id": "93be4036",
   "metadata": {},
   "outputs": [],
   "source": [
    "# fill in when I get a chance to figure out what's applicable here\n",
    "# I think I might buy myself the stats book as a gift so I can brush up..."
   ]
  },
  {
   "cell_type": "markdown",
   "id": "5f2dcb3e",
   "metadata": {},
   "source": [
    "### Looking at the distribution over time of press releases"
   ]
  },
  {
   "cell_type": "markdown",
   "id": "9c41ac21",
   "metadata": {},
   "source": [
    "#### Distributions over time\n"
   ]
  },
  {
   "cell_type": "code",
   "execution_count": 16,
   "id": "d4f3f280",
   "metadata": {},
   "outputs": [
    {
     "data": {
      "text/plain": [
       "Text(0, 0.5, '# of press releases')"
      ]
     },
     "execution_count": 16,
     "metadata": {},
     "output_type": "execute_result"
    },
    {
     "data": {
      "image/png": "[encoded data removed]",
      "text/plain": [
       "<Figure size 432x288 with 1 Axes>"
      ]
     },
     "metadata": {
      "needs_background": "light"
     },
     "output_type": "display_data"
    }
   ],
   "source": [
    "# showing the trends in press releases over time on a yearly basis\n",
    "data.resample(\"Y\",on=\"date\").count().plot(y=\"body\")\n",
    "plt.title(\"Yearly press releases\")\n",
    "plt.legend('',frameon=False)\n",
    "plt.ylabel(\"# of press releases\")"
   ]
  },
  {
   "cell_type": "code",
   "execution_count": 17,
   "id": "703383d7",
   "metadata": {},
   "outputs": [
    {
     "data": {
      "text/plain": [
       "Text(0, 0.5, '# of press releases')"
      ]
     },
     "execution_count": 17,
     "metadata": {},
     "output_type": "execute_result"
    },
    {
     "data": {
      "image/png": "[encoded data removed]",
      "text/plain": [
       "<Figure size 432x288 with 1 Axes>"
      ]
     },
     "metadata": {
      "needs_background": "light"
     },
     "output_type": "display_data"
    }
   ],
   "source": [
    "# showing the trends in press releases over time on a monthly basis\n",
    "data.resample(\"M\",on=\"date\").count().plot(y=\"body\")\n",
    "plt.title(\"Monthly press releases\")\n",
    "plt.legend('',frameon=False)\n",
    "plt.ylabel(\"# of press releases\")"
   ]
  },
  {
   "cell_type": "markdown",
   "id": "6bccb946",
   "metadata": {},
   "source": [
    "#### Yearly distribution"
   ]
  },
  {
   "cell_type": "code",
   "execution_count": 18,
   "id": "0ae8b266",
   "metadata": {},
   "outputs": [
    {
     "data": {
      "text/html": [
       "<div>\n",
       "<style scoped>\n",
       "    .dataframe tbody tr th:only-of-type {\n",
       "        vertical-align: middle;\n",
       "    }\n",
       "\n",
       "    .dataframe tbody tr th {\n",
       "        vertical-align: top;\n",
       "    }\n",
       "\n",
       "    .dataframe thead th {\n",
       "        text-align: right;\n",
       "    }\n",
       "</style>\n",
       "<table border=\"1\" class=\"dataframe\">\n",
       "  <thead>\n",
       "    <tr style=\"text-align: right;\">\n",
       "      <th></th>\n",
       "      <th></th>\n",
       "      <th>date</th>\n",
       "      <th>ambassador</th>\n",
       "    </tr>\n",
       "    <tr>\n",
       "      <th>ambassador</th>\n",
       "      <th>date</th>\n",
       "      <th></th>\n",
       "      <th></th>\n",
       "    </tr>\n",
       "  </thead>\n",
       "  <tbody>\n",
       "    <tr>\n",
       "      <th rowspan=\"13\" valign=\"top\">Ambassador Liu Xiaoming</th>\n",
       "      <th>2009-12-31</th>\n",
       "      <td>4</td>\n",
       "      <td>4</td>\n",
       "    </tr>\n",
       "    <tr>\n",
       "      <th>2010-12-31</th>\n",
       "      <td>34</td>\n",
       "      <td>34</td>\n",
       "    </tr>\n",
       "    <tr>\n",
       "      <th>2011-12-31</th>\n",
       "      <td>0</td>\n",
       "      <td>0</td>\n",
       "    </tr>\n",
       "    <tr>\n",
       "      <th>2012-12-31</th>\n",
       "      <td>9</td>\n",
       "      <td>9</td>\n",
       "    </tr>\n",
       "    <tr>\n",
       "      <th>2013-12-31</th>\n",
       "      <td>11</td>\n",
       "      <td>11</td>\n",
       "    </tr>\n",
       "    <tr>\n",
       "      <th>2014-12-31</th>\n",
       "      <td>12</td>\n",
       "      <td>12</td>\n",
       "    </tr>\n",
       "    <tr>\n",
       "      <th>2015-12-31</th>\n",
       "      <td>2</td>\n",
       "      <td>2</td>\n",
       "    </tr>\n",
       "    <tr>\n",
       "      <th>2016-12-31</th>\n",
       "      <td>0</td>\n",
       "      <td>0</td>\n",
       "    </tr>\n",
       "    <tr>\n",
       "      <th>2017-12-31</th>\n",
       "      <td>0</td>\n",
       "      <td>0</td>\n",
       "    </tr>\n",
       "    <tr>\n",
       "      <th>2018-12-31</th>\n",
       "      <td>17</td>\n",
       "      <td>17</td>\n",
       "    </tr>\n",
       "    <tr>\n",
       "      <th>2019-12-31</th>\n",
       "      <td>16</td>\n",
       "      <td>16</td>\n",
       "    </tr>\n",
       "    <tr>\n",
       "      <th>2020-12-31</th>\n",
       "      <td>118</td>\n",
       "      <td>118</td>\n",
       "    </tr>\n",
       "    <tr>\n",
       "      <th>2021-12-31</th>\n",
       "      <td>6</td>\n",
       "      <td>6</td>\n",
       "    </tr>\n",
       "    <tr>\n",
       "      <th>Ambassador Zheng Zeguang</th>\n",
       "      <th>2021-12-31</th>\n",
       "      <td>97</td>\n",
       "      <td>97</td>\n",
       "    </tr>\n",
       "    <tr>\n",
       "      <th>Vacant</th>\n",
       "      <th>2021-12-31</th>\n",
       "      <td>23</td>\n",
       "      <td>23</td>\n",
       "    </tr>\n",
       "  </tbody>\n",
       "</table>\n",
       "</div>"
      ],
      "text/plain": [
       "                                     date  ambassador\n",
       "ambassador               date                        \n",
       "Ambassador Liu Xiaoming  2009-12-31     4           4\n",
       "                         2010-12-31    34          34\n",
       "                         2011-12-31     0           0\n",
       "                         2012-12-31     9           9\n",
       "                         2013-12-31    11          11\n",
       "                         2014-12-31    12          12\n",
       "                         2015-12-31     2           2\n",
       "                         2016-12-31     0           0\n",
       "                         2017-12-31     0           0\n",
       "                         2018-12-31    17          17\n",
       "                         2019-12-31    16          16\n",
       "                         2020-12-31   118         118\n",
       "                         2021-12-31     6           6\n",
       "Ambassador Zheng Zeguang 2021-12-31    97          97\n",
       "Vacant                   2021-12-31    23          23"
      ]
     },
     "execution_count": 18,
     "metadata": {},
     "output_type": "execute_result"
    }
   ],
   "source": [
    "# by taking two columns, grouping them, and then resampling them, while taking the count, we can find the yearly count\n",
    "# grouping by ambassador allows for an easy showing of the count by year\n",
    "data[[\"date\",\"ambassador\"]].groupby(data[\"ambassador\"]).resample(\"Y\", on=\"date\").count()"
   ]
  },
  {
   "cell_type": "code",
   "execution_count": 19,
   "id": "212572a6",
   "metadata": {},
   "outputs": [
    {
     "data": {
      "text/plain": [
       "<AxesSubplot:xlabel='date'>"
      ]
     },
     "execution_count": 19,
     "metadata": {},
     "output_type": "execute_result"
    },
    {
     "data": {
      "image/png": "[encoded data removed]",
      "text/plain": [
       "<Figure size 432x288 with 1 Axes>"
      ]
     },
     "metadata": {
      "needs_background": "light"
     },
     "output_type": "display_data"
    }
   ],
   "source": [
    "# by unstacking the resampling by ambasador & then selecting the date column & plotting it, we can show the yearly trend\n",
    "grouped = data[[\"date\",\"ambassador\"]].groupby(data[\"ambassador\"]).resample(\"Y\", on=\"date\").count()\n",
    "grouped.unstack(\"ambassador\",fill_value=0)[\"date\"].plot()"
   ]
  },
  {
   "cell_type": "markdown",
   "id": "52882f0e",
   "metadata": {},
   "source": [
    "#### Monthly Distribution"
   ]
  },
  {
   "cell_type": "code",
   "execution_count": 20,
   "id": "01f7c515",
   "metadata": {},
   "outputs": [],
   "source": [
    "# starting by filtering the data down to just 2021, then using a groupby and resampling on a monthly basis\n",
    "monthly = data.loc[data[\"date\"] > \"2020-12-31\",[\"date\",\"ambassador\"]].groupby(data[\"ambassador\"]).resample(\"M\", on=\"date\").count()\n",
    "# going ahead and unstacking\n",
    "monthly = monthly.unstack(\"ambassador\",fill_value=0)[\"date\"]"
   ]
  },
  {
   "cell_type": "code",
   "execution_count": 21,
   "id": "9c7625eb",
   "metadata": {},
   "outputs": [
    {
     "data": {
      "text/html": [
       "<div>\n",
       "<style scoped>\n",
       "    .dataframe tbody tr th:only-of-type {\n",
       "        vertical-align: middle;\n",
       "    }\n",
       "\n",
       "    .dataframe tbody tr th {\n",
       "        vertical-align: top;\n",
       "    }\n",
       "\n",
       "    .dataframe thead th {\n",
       "        text-align: right;\n",
       "    }\n",
       "</style>\n",
       "<table border=\"1\" class=\"dataframe\">\n",
       "  <thead>\n",
       "    <tr style=\"text-align: right;\">\n",
       "      <th>ambassador</th>\n",
       "      <th>Ambassador Liu Xiaoming</th>\n",
       "      <th>Ambassador Zheng Zeguang</th>\n",
       "      <th>Vacant</th>\n",
       "    </tr>\n",
       "    <tr>\n",
       "      <th>date</th>\n",
       "      <th></th>\n",
       "      <th></th>\n",
       "      <th></th>\n",
       "    </tr>\n",
       "  </thead>\n",
       "  <tbody>\n",
       "    <tr>\n",
       "      <th>2021-01-31</th>\n",
       "      <td>6</td>\n",
       "      <td>0</td>\n",
       "      <td>0</td>\n",
       "    </tr>\n",
       "    <tr>\n",
       "      <th>2021-02-28</th>\n",
       "      <td>0</td>\n",
       "      <td>0</td>\n",
       "      <td>13</td>\n",
       "    </tr>\n",
       "    <tr>\n",
       "      <th>2021-03-31</th>\n",
       "      <td>0</td>\n",
       "      <td>0</td>\n",
       "      <td>5</td>\n",
       "    </tr>\n",
       "    <tr>\n",
       "      <th>2021-04-30</th>\n",
       "      <td>0</td>\n",
       "      <td>0</td>\n",
       "      <td>3</td>\n",
       "    </tr>\n",
       "    <tr>\n",
       "      <th>2021-05-31</th>\n",
       "      <td>0</td>\n",
       "      <td>0</td>\n",
       "      <td>0</td>\n",
       "    </tr>\n",
       "    <tr>\n",
       "      <th>2021-06-30</th>\n",
       "      <td>0</td>\n",
       "      <td>8</td>\n",
       "      <td>2</td>\n",
       "    </tr>\n",
       "    <tr>\n",
       "      <th>2021-07-31</th>\n",
       "      <td>0</td>\n",
       "      <td>8</td>\n",
       "      <td>0</td>\n",
       "    </tr>\n",
       "    <tr>\n",
       "      <th>2021-08-31</th>\n",
       "      <td>0</td>\n",
       "      <td>11</td>\n",
       "      <td>0</td>\n",
       "    </tr>\n",
       "    <tr>\n",
       "      <th>2021-09-30</th>\n",
       "      <td>0</td>\n",
       "      <td>16</td>\n",
       "      <td>0</td>\n",
       "    </tr>\n",
       "    <tr>\n",
       "      <th>2021-10-31</th>\n",
       "      <td>0</td>\n",
       "      <td>25</td>\n",
       "      <td>0</td>\n",
       "    </tr>\n",
       "    <tr>\n",
       "      <th>2021-11-30</th>\n",
       "      <td>0</td>\n",
       "      <td>9</td>\n",
       "      <td>0</td>\n",
       "    </tr>\n",
       "    <tr>\n",
       "      <th>2021-12-31</th>\n",
       "      <td>0</td>\n",
       "      <td>20</td>\n",
       "      <td>0</td>\n",
       "    </tr>\n",
       "  </tbody>\n",
       "</table>\n",
       "</div>"
      ],
      "text/plain": [
       "ambassador  Ambassador Liu Xiaoming  Ambassador Zheng Zeguang  Vacant\n",
       "date                                                                 \n",
       "2021-01-31                        6                         0       0\n",
       "2021-02-28                        0                         0      13\n",
       "2021-03-31                        0                         0       5\n",
       "2021-04-30                        0                         0       3\n",
       "2021-05-31                        0                         0       0\n",
       "2021-06-30                        0                         8       2\n",
       "2021-07-31                        0                         8       0\n",
       "2021-08-31                        0                        11       0\n",
       "2021-09-30                        0                        16       0\n",
       "2021-10-31                        0                        25       0\n",
       "2021-11-30                        0                         9       0\n",
       "2021-12-31                        0                        20       0"
      ]
     },
     "execution_count": 21,
     "metadata": {},
     "output_type": "execute_result"
    }
   ],
   "source": [
    "# printing the monthly count\n",
    "monthly"
   ]
  },
  {
   "cell_type": "code",
   "execution_count": 22,
   "id": "dab24918",
   "metadata": {},
   "outputs": [
    {
     "data": {
      "text/plain": [
       "<AxesSubplot:xlabel='date'>"
      ]
     },
     "execution_count": 22,
     "metadata": {},
     "output_type": "execute_result"
    },
    {
     "data": {
      "image/png": "[encoded data removed]",
      "text/plain": [
       "<Figure size 432x288 with 1 Axes>"
      ]
     },
     "metadata": {
      "needs_background": "light"
     },
     "output_type": "display_data"
    }
   ],
   "source": [
    "# plotting the monthly count\n",
    "monthly.plot()"
   ]
  },
  {
   "cell_type": "markdown",
   "id": "866f6a0b",
   "metadata": {},
   "source": [
    "### Trends in title & body length over time"
   ]
  },
  {
   "cell_type": "markdown",
   "id": "44c09876",
   "metadata": {},
   "source": [
    "#### Looking at trends within title and body length over time"
   ]
  },
  {
   "cell_type": "code",
   "execution_count": 23,
   "id": "10526067",
   "metadata": {},
   "outputs": [
    {
     "data": {
      "text/plain": [
       "<AxesSubplot:xlabel='date'>"
      ]
     },
     "execution_count": 23,
     "metadata": {},
     "output_type": "execute_result"
    },
    {
     "data": {
      "image/png": "[encoded data removed]",
      "text/plain": [
       "<Figure size 432x288 with 1 Axes>"
      ]
     },
     "metadata": {
      "needs_background": "light"
     },
     "output_type": "display_data"
    }
   ],
   "source": [
    "# exploring the time series data of the title length\n",
    "data.plot(x=\"date\",y=\"title_length\")"
   ]
  },
  {
   "cell_type": "code",
   "execution_count": 24,
   "id": "19f3adad",
   "metadata": {},
   "outputs": [
    {
     "data": {
      "text/plain": [
       "<AxesSubplot:xlabel='date'>"
      ]
     },
     "execution_count": 24,
     "metadata": {},
     "output_type": "execute_result"
    },
    {
     "data": {
      "image/png": "[encoded data removed]",
      "text/plain": [
       "<Figure size 432x288 with 1 Axes>"
      ]
     },
     "metadata": {
      "needs_background": "light"
     },
     "output_type": "display_data"
    }
   ],
   "source": [
    "# exploring the time series data of the body length\n",
    "data.plot(x=\"date\",y=\"body_length\")"
   ]
  },
  {
   "cell_type": "markdown",
   "id": "23f10859",
   "metadata": {},
   "source": [
    "#### Mean title & body length over time\n"
   ]
  },
  {
   "cell_type": "code",
   "execution_count": 25,
   "id": "5ea05802",
   "metadata": {},
   "outputs": [
    {
     "data": {
      "text/plain": [
       "<AxesSubplot:xlabel='date'>"
      ]
     },
     "execution_count": 25,
     "metadata": {},
     "output_type": "execute_result"
    },
    {
     "data": {
      "image/png": "[encoded data removed]",
      "text/plain": [
       "<Figure size 432x288 with 1 Axes>"
      ]
     },
     "metadata": {
      "needs_background": "light"
     },
     "output_type": "display_data"
    }
   ],
   "source": [
    "# looking at the mean title length over time\n",
    "data.resample(\"Y\", on=\"date\").mean().fillna(0).plot(y=\"title_length\")"
   ]
  },
  {
   "cell_type": "code",
   "execution_count": 26,
   "id": "19f489ab",
   "metadata": {},
   "outputs": [
    {
     "data": {
      "text/plain": [
       "<AxesSubplot:xlabel='date'>"
      ]
     },
     "execution_count": 26,
     "metadata": {},
     "output_type": "execute_result"
    },
    {
     "data": {
      "image/png": "[encoded data removed]",
      "text/plain": [
       "<Figure size 432x288 with 1 Axes>"
      ]
     },
     "metadata": {
      "needs_background": "light"
     },
     "output_type": "display_data"
    }
   ],
   "source": [
    "# looking at the mean body length over time\n",
    "data.resample(\"Y\", on=\"date\").mean().fillna(0).plot(y=\"body_length\")"
   ]
  },
  {
   "cell_type": "markdown",
   "id": "57af791e",
   "metadata": {},
   "source": [
    "#### Looking at Title & Body Length by Ambassador"
   ]
  },
  {
   "cell_type": "code",
   "execution_count": null,
   "id": "b24997b4",
   "metadata": {},
   "outputs": [],
   "source": []
  }
 ],
 "metadata": {
  "kernelspec": {
   "display_name": "Python 3",
   "language": "python",
   "name": "python3"
  },
  "language_info": {
   "codemirror_mode": {
    "name": "ipython",
    "version": 3
   },
   "file_extension": ".py",
   "mimetype": "text/x-python",
   "name": "python",
   "nbconvert_exporter": "python",
   "pygments_lexer": "ipython3",
   "version": "3.8.8"
  }
 },
 "nbformat": 4,
 "nbformat_minor": 5
}

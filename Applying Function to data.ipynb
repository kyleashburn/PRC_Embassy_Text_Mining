{
 "cells": [
  {
   "cell_type": "markdown",
   "id": "8e73dbbc",
   "metadata": {},
   "source": [
    "## Importing libraries and setting up functions"
   ]
  },
  {
   "cell_type": "code",
   "execution_count": 1,
   "id": "b51adbe6",
   "metadata": {},
   "outputs": [],
   "source": [
    "import json\n",
    "import requests\n",
    "import time\n",
    "import pandas as pd\n",
    "\n",
    "# importing beautifulsoup\n",
    "from bs4 import BeautifulSoup\n",
    "\n",
    "# importing re\n",
    "import re"
   ]
  },
  {
   "cell_type": "code",
   "execution_count": 2,
   "id": "1aa57e78",
   "metadata": {},
   "outputs": [],
   "source": [
    "# child function\n",
    "# retrieves the title of the page\n",
    "def title_pull(soup):\n",
    "    # pulling all the elements with the bigtitle class that are also td tags (set consists of single element)\n",
    "    title = soup.find_all(\"td\", class_=\"bigtitle\")[0].text\n",
    "    \n",
    "    return(title)"
   ]
  },
  {
   "cell_type": "code",
   "execution_count": 3,
   "id": "bcb9dec5",
   "metadata": {},
   "outputs": [],
   "source": [
    "# child function\n",
    "# retrieves date of release\n",
    "def date_pull(soup):\n",
    "    # pulling all elements that are td tags with set attributes (set consists of single element)\n",
    "    date = soup.find_all(\"td\", height=\"28\", align=\"center\")[0].text\n",
    "    \n",
    "    return(date)"
   ]
  },
  {
   "cell_type": "code",
   "execution_count": 4,
   "id": "94e5cc2a",
   "metadata": {},
   "outputs": [],
   "source": [
    "# child function\n",
    "# retrieves body of text\n",
    "def body_pull(soup):\n",
    "    # pulling all elements that are p tags (set consists solely of the body of the press release)\n",
    "    paragraphs = soup.find_all(\"p\")\n",
    "    \n",
    "    # concatenates the paragraphs present in the page. Assumes individual paragraphs are unimportant (may be untrue)\n",
    "    body = \"\".join([x.text for x in paragraphs])\n",
    "    \n",
    "    return(body)"
   ]
  },
  {
   "cell_type": "code",
   "execution_count": 18,
   "id": "20be6b33",
   "metadata": {},
   "outputs": [],
   "source": [
    "# child function\n",
    "# retrieves ambassador name\n",
    "def amb_pull(soup):\n",
    "    # pulling the ambassador bio link (correcting to ensure full url)\n",
    "    bio_url = base_url + soup.find_all(href=re.compile(\"/ambassador/dsjl\"))[0][\"href\"][5:]\n",
    "    \n",
    "    # pulling the biography page and setting up a soup object\n",
    "    bio_page = requests.get(bio_url)\n",
    "    bio_soup = BeautifulSoup(bio_page.content, \"html.parser\")\n",
    "    \n",
    "    # pulling out the ambassadors name line from the bio\n",
    "    bio = bio_soup.find_all(class_=\"bigtitle\")\n",
    "    \n",
    "    # running a regex on the title (which will be followed by their name)\n",
    "    ambassador = re.search(r\"(Ambassador.+)\", bio[0].text).group()\n",
    "    \n",
    "    return(ambassador)"
   ]
  },
  {
   "cell_type": "code",
   "execution_count": 68,
   "id": "b509bd7c",
   "metadata": {},
   "outputs": [],
   "source": [
    "# parent function\n",
    "# calls scraping sub-functions\n",
    "# returns dict w/vals for each\n",
    "def scraper(url):    \n",
    "    # starting time\n",
    "    start_time = time.time()\n",
    "    \n",
    "    # pulling the page of the url and creating a soup object from it\n",
    "    page = requests.get(url)\n",
    "    soup = BeautifulSoup(page.content, \"html.parser\")\n",
    "    \n",
    "    # temp try/except block\n",
    "    try:\n",
    "        # pulling the title, date, body, and ambassador\n",
    "        title = title_pull(soup)\n",
    "        date = date_pull(soup)\n",
    "        body = body_pull(soup)\n",
    "        ambassador = amb_pull(soup)\n",
    "        \n",
    "    except:\n",
    "        print(url)\n",
    "        return(float(\"NaN\"))\n",
    "\n",
    "    # calculating the delay\n",
    "    delay = time.time() - start_time\n",
    "    \n",
    "    # pausing for the total time * 2 to be nice to the server we're querying from\n",
    "    time.sleep(delay * 2)\n",
    "    \n",
    "    # returning the pulled stuff from the page(s)\n",
    "    return([title, date, body, ambassador])"
   ]
  },
  {
   "cell_type": "code",
   "execution_count": 7,
   "id": "28a18ec7",
   "metadata": {},
   "outputs": [],
   "source": [
    "# setting the base url\n",
    "base_url = \"https://web.archive.org/web/\"\n",
    "\n",
    "# function to go ahead and construct the urls we'll need here\n",
    "def ret_url(x):\n",
    "    specific_url = base_url + str(x[\"timestamp\"]) + \"/\" + x[\"original\"]\n",
    "    \n",
    "    return(specific_url)"
   ]
  },
  {
   "cell_type": "code",
   "execution_count": 52,
   "id": "7d8bbd8d",
   "metadata": {},
   "outputs": [],
   "source": [
    "# function to retrieve the type of page from the url (i.e. htm, pdf, docx)\n",
    "def ret_page_type(x):\n",
    "    url_split = x.split(\".\")\n",
    "    \n",
    "    # pulling the last element in the url split on \".\" (the page type)\n",
    "    page_type = \".\" + url_split[-1]\n",
    "    \n",
    "    # returning the page type\n",
    "    return(page_type)"
   ]
  },
  {
   "cell_type": "markdown",
   "id": "1d9bf6ce",
   "metadata": {},
   "source": [
    "### Retrieving the JSON object of URLS to scrape"
   ]
  },
  {
   "cell_type": "code",
   "execution_count": 8,
   "id": "810aac73",
   "metadata": {},
   "outputs": [
    {
     "name": "stdout",
     "output_type": "stream",
     "text": [
      "Wall time: 1.06 s\n"
     ]
    }
   ],
   "source": [
    "%%time\n",
    "# starting url\n",
    "start_url = \"https://web.archive.org/cdx/search/cdx?url=http://www.chinese-embassy.org.uk/eng/PressandMedia/&matchType=prefix&output=json&limit=1000&showResumeKey=true&filter=statuscode:200&collapse=digest\" \n",
    "\n",
    "# using requests to pull the json webpage\n",
    "r = requests.get(start_url)\n",
    "\n",
    "# setting the scrape response to the json from the request\n",
    "scrape_response = r.json()\n",
    "\n",
    "# as long as the last element is a resume key\n",
    "while len(scrape_response[-1]) == 1:\n",
    "    # popping the last item (resume key) & second to last item (blank list)\n",
    "    resume_key = scrape_response.pop(-1)[0]\n",
    "    if len(scrape_response[-1]) == 0:\n",
    "        scrape_response.pop(-1)\n",
    "        \n",
    "    # updating the wayback url\n",
    "    wayback_url = start_url + \"&ResumeKey=\" + resume_key   \n",
    "    \n",
    "    # pulling the resumed query\n",
    "    r = requests.get(wayback_url).json()\n",
    "    \n",
    "    # extending the list of responses\n",
    "    scrape_response.extend(r)\n",
    "    \n",
    "    # sleeping 5 seconds each time to be nice to the server\n",
    "    time.sleep(5)"
   ]
  },
  {
   "cell_type": "code",
   "execution_count": 9,
   "id": "04b022a8",
   "metadata": {},
   "outputs": [],
   "source": [
    "# converting the cdx response to a df\n",
    "scrape_df = pd.DataFrame(scrape_response[1:], columns=scrape_response[0])"
   ]
  },
  {
   "cell_type": "code",
   "execution_count": 10,
   "id": "6352de74",
   "metadata": {},
   "outputs": [],
   "source": [
    "# removing the duplicates\n",
    "scrape_df.drop_duplicates(subset=\"original\", inplace=True)"
   ]
  },
  {
   "cell_type": "code",
   "execution_count": 11,
   "id": "9617a338",
   "metadata": {},
   "outputs": [],
   "source": [
    "# assigning the storage url\n",
    "scrape_df[\"storage_url\"] = scrape_df.apply(ret_url, axis=1)"
   ]
  },
  {
   "cell_type": "code",
   "execution_count": 58,
   "id": "91c0cf28",
   "metadata": {},
   "outputs": [
    {
     "name": "stdout",
     "output_type": "stream",
     "text": [
      "Wall time: 1 ms\n"
     ]
    }
   ],
   "source": [
    "%%time\n",
    "# applying the function to figure out the types of the pages\n",
    "scrape_df[\"page_type\"] = scrape_df[\"storage_url\"].apply(ret_page_type)"
   ]
  },
  {
   "cell_type": "code",
   "execution_count": 61,
   "id": "f298f034",
   "metadata": {
    "scrolled": true
   },
   "outputs": [
    {
     "data": {
      "text/plain": [
       ".htm                                               374\n",
       ".pdf                                                51\n",
       ".doc                                                 2\n",
       ".uk/eng/PressandMedia/ChinaNewsletter201701/         1\n",
       ".uk:80/eng/PressandMedia/ChinaNewsletter201701/      1\n",
       ".uk/eng/PressandMedia/Spokepersons/                  1\n",
       ".uk/eng/PressandMedia/Information/                   1\n",
       ".uk:80/eng/PressandMedia/Spokepersons/               1\n",
       ".uk:80/eng/PressandMedia/MediaService/               1\n",
       ".uk/eng/PressandMedia/MediaService/                  1\n",
       ".uk:80/eng/PressandMedia/Information/                1\n",
       "Name: page_type, dtype: int64"
      ]
     },
     "execution_count": 61,
     "metadata": {},
     "output_type": "execute_result"
    }
   ],
   "source": [
    "scrape_df[\"page_type\"].value_counts()"
   ]
  },
  {
   "cell_type": "code",
   "execution_count": 64,
   "id": "95b6b8bc",
   "metadata": {},
   "outputs": [],
   "source": [
    "# filtering out where the page type isn't htm\n",
    "scrape_df = scrape_df[scrape_df[\"page_type\"] == \".htm\"]"
   ]
  },
  {
   "cell_type": "markdown",
   "id": "77da7771",
   "metadata": {},
   "source": [
    "### Pulling the elements from full set"
   ]
  },
  {
   "cell_type": "code",
   "execution_count": 69,
   "id": "3e7d4f3b",
   "metadata": {
    "scrolled": true
   },
   "outputs": [
    {
     "name": "stdout",
     "output_type": "stream",
     "text": [
      "https://web.archive.org/web/20100819023353/http://www.chinese-embassy.org.uk:80/eng/PressandMedia/default.htm\n",
      "Wall time: 31min 58s\n"
     ]
    },
    {
     "name": "stderr",
     "output_type": "stream",
     "text": [
      "<timed exec>:2: SettingWithCopyWarning: \n",
      "A value is trying to be set on a copy of a slice from a DataFrame.\n",
      "Try using .loc[row_indexer,col_indexer] = value instead\n",
      "\n",
      "See the caveats in the documentation: https://pandas.pydata.org/pandas-docs/stable/user_guide/indexing.html#returning-a-view-versus-a-copy\n"
     ]
    }
   ],
   "source": [
    "%%time\n",
    "# testing out how this works with the full dataset...\n",
    "scrape_df[\"scraped_data\"] = scrape_df[\"storage_url\"].apply(scraper)"
   ]
  },
  {
   "cell_type": "markdown",
   "id": "7c5f7d61",
   "metadata": {},
   "source": [
    "Looking at the url that was returned above, we can safely ignore it. So we'll go ahead and drop the single nan value."
   ]
  },
  {
   "cell_type": "code",
   "execution_count": 82,
   "id": "87601062",
   "metadata": {},
   "outputs": [],
   "source": [
    "scrape_df = scrape_df.dropna()"
   ]
  },
  {
   "cell_type": "code",
   "execution_count": 91,
   "id": "0b574100",
   "metadata": {},
   "outputs": [
    {
     "data": {
      "text/plain": [
       "0      https://web.archive.org/web/20211130031323/htt...\n",
       "1      https://web.archive.org/web/20211130052058/htt...\n",
       "2      https://web.archive.org/web/20211130025452/htt...\n",
       "3      https://web.archive.org/web/20211130042447/htt...\n",
       "4      https://web.archive.org/web/20211130054122/htt...\n",
       "                             ...                        \n",
       "818    https://web.archive.org/web/20150501185000/htt...\n",
       "822    https://web.archive.org/web/20150501181307/htt...\n",
       "823    https://web.archive.org/web/20151019074049/htt...\n",
       "826    https://web.archive.org/web/20150501180024/htt...\n",
       "827    https://web.archive.org/web/20151019091307/htt...\n",
       "Name: storage_url, Length: 373, dtype: object"
      ]
     },
     "execution_count": 91,
     "metadata": {},
     "output_type": "execute_result"
    }
   ],
   "source": [
    "scrape_df[\"storage_url\"]"
   ]
  },
  {
   "cell_type": "code",
   "execution_count": 93,
   "id": "ea1afdde",
   "metadata": {},
   "outputs": [
    {
     "data": {
      "text/html": [
       "<div>\n",
       "<style scoped>\n",
       "    .dataframe tbody tr th:only-of-type {\n",
       "        vertical-align: middle;\n",
       "    }\n",
       "\n",
       "    .dataframe tbody tr th {\n",
       "        vertical-align: top;\n",
       "    }\n",
       "\n",
       "    .dataframe thead th {\n",
       "        text-align: right;\n",
       "    }\n",
       "</style>\n",
       "<table border=\"1\" class=\"dataframe\">\n",
       "  <thead>\n",
       "    <tr style=\"text-align: right;\">\n",
       "      <th></th>\n",
       "      <th>title</th>\n",
       "      <th>date</th>\n",
       "      <th>body</th>\n",
       "      <th>ambassador</th>\n",
       "    </tr>\n",
       "  </thead>\n",
       "  <tbody>\n",
       "    <tr>\n",
       "      <th>0</th>\n",
       "      <td>Embassy Spokesperson's Remarks on Chinese oper...</td>\n",
       "      <td>2020-08-24 23:45</td>\n",
       "      <td>Question: According to British media's report,...</td>\n",
       "      <td>Ambassador Zheng Zeguang</td>\n",
       "    </tr>\n",
       "    <tr>\n",
       "      <th>1</th>\n",
       "      <td>Embassy Spokesperson's Remarks on issues relat...</td>\n",
       "      <td>2020-08-25 21:03</td>\n",
       "      <td>Question: In an open letter, MPs will be urged...</td>\n",
       "      <td>Ambassador Zheng Zeguang</td>\n",
       "    </tr>\n",
       "    <tr>\n",
       "      <th>2</th>\n",
       "      <td>Embassy Spokesperson's Remarks on issues relat...</td>\n",
       "      <td>2020-08-25 21:05</td>\n",
       "      <td>Question: A letter signed by religious leaders...</td>\n",
       "      <td>Ambassador Zheng Zeguang</td>\n",
       "    </tr>\n",
       "    <tr>\n",
       "      <th>3</th>\n",
       "      <td>Embassy Spokesperson's Remarks on The Times' R...</td>\n",
       "      <td>2020-08-29 07:08</td>\n",
       "      <td>Question: On 28 August, The Times carried a re...</td>\n",
       "      <td>Ambassador Zheng Zeguang</td>\n",
       "    </tr>\n",
       "    <tr>\n",
       "      <th>4</th>\n",
       "      <td>Embassy Spokesperson's Remarks on the Claim by...</td>\n",
       "      <td>2020-09-01 23:40</td>\n",
       "      <td>Question: On August 30th, Tom Tugendhat, Chair...</td>\n",
       "      <td>Ambassador Zheng Zeguang</td>\n",
       "    </tr>\n",
       "    <tr>\n",
       "      <th>...</th>\n",
       "      <td>...</td>\n",
       "      <td>...</td>\n",
       "      <td>...</td>\n",
       "      <td>...</td>\n",
       "    </tr>\n",
       "    <tr>\n",
       "      <th>368</th>\n",
       "      <td>The Chinese Embassy in the UK Responds to Comm...</td>\n",
       "      <td>2010/09/17</td>\n",
       "      <td>The following is a letter from Mrs. Dai Qingli...</td>\n",
       "      <td>Ambassador Liu Xiaoming</td>\n",
       "    </tr>\n",
       "    <tr>\n",
       "      <th>369</th>\n",
       "      <td>Chinese Embassy in the UK Refutes Jeremy Clark...</td>\n",
       "      <td>2012/01/13</td>\n",
       "      <td>On 7th January 2012, The Sun carried Jeremy Cl...</td>\n",
       "      <td>Ambassador Liu Xiaoming</td>\n",
       "    </tr>\n",
       "    <tr>\n",
       "      <th>370</th>\n",
       "      <td>Chinese Embassy in the UK Refutes Jeremy Clark...</td>\n",
       "      <td>2012/01/13</td>\n",
       "      <td>On 7th January 2012, The Sun carried Jeremy Cl...</td>\n",
       "      <td>Ambassador Liu Xiaoming</td>\n",
       "    </tr>\n",
       "    <tr>\n",
       "      <th>371</th>\n",
       "      <td>The Chinese Embassy refutes Guardian's report ...</td>\n",
       "      <td>2012/08/01</td>\n",
       "      <td>On July 25th, The Guardian carried an article ...</td>\n",
       "      <td>Ambassador Liu Xiaoming</td>\n",
       "    </tr>\n",
       "    <tr>\n",
       "      <th>372</th>\n",
       "      <td>The Chinese Embassy refutes Guardian's report ...</td>\n",
       "      <td>2012/08/01</td>\n",
       "      <td>On July 25th, The Guardian carried an article ...</td>\n",
       "      <td>Ambassador Liu Xiaoming</td>\n",
       "    </tr>\n",
       "  </tbody>\n",
       "</table>\n",
       "<p>373 rows × 4 columns</p>\n",
       "</div>"
      ],
      "text/plain": [
       "                                                 title              date  \\\n",
       "0    Embassy Spokesperson's Remarks on Chinese oper...  2020-08-24 23:45   \n",
       "1    Embassy Spokesperson's Remarks on issues relat...  2020-08-25 21:03   \n",
       "2    Embassy Spokesperson's Remarks on issues relat...  2020-08-25 21:05   \n",
       "3    Embassy Spokesperson's Remarks on The Times' R...  2020-08-29 07:08   \n",
       "4    Embassy Spokesperson's Remarks on the Claim by...  2020-09-01 23:40   \n",
       "..                                                 ...               ...   \n",
       "368  The Chinese Embassy in the UK Responds to Comm...        2010/09/17   \n",
       "369  Chinese Embassy in the UK Refutes Jeremy Clark...        2012/01/13   \n",
       "370  Chinese Embassy in the UK Refutes Jeremy Clark...        2012/01/13   \n",
       "371  The Chinese Embassy refutes Guardian's report ...        2012/08/01   \n",
       "372  The Chinese Embassy refutes Guardian's report ...        2012/08/01   \n",
       "\n",
       "                                                  body  \\\n",
       "0    Question: According to British media's report,...   \n",
       "1    Question: In an open letter, MPs will be urged...   \n",
       "2    Question: A letter signed by religious leaders...   \n",
       "3    Question: On 28 August, The Times carried a re...   \n",
       "4    Question: On August 30th, Tom Tugendhat, Chair...   \n",
       "..                                                 ...   \n",
       "368  The following is a letter from Mrs. Dai Qingli...   \n",
       "369  On 7th January 2012, The Sun carried Jeremy Cl...   \n",
       "370  On 7th January 2012, The Sun carried Jeremy Cl...   \n",
       "371  On July 25th, The Guardian carried an article ...   \n",
       "372  On July 25th, The Guardian carried an article ...   \n",
       "\n",
       "                   ambassador  \n",
       "0    Ambassador Zheng Zeguang  \n",
       "1    Ambassador Zheng Zeguang  \n",
       "2    Ambassador Zheng Zeguang  \n",
       "3    Ambassador Zheng Zeguang  \n",
       "4    Ambassador Zheng Zeguang  \n",
       "..                        ...  \n",
       "368   Ambassador Liu Xiaoming  \n",
       "369   Ambassador Liu Xiaoming  \n",
       "370   Ambassador Liu Xiaoming  \n",
       "371   Ambassador Liu Xiaoming  \n",
       "372   Ambassador Liu Xiaoming  \n",
       "\n",
       "[373 rows x 4 columns]"
      ]
     },
     "execution_count": 93,
     "metadata": {},
     "output_type": "execute_result"
    }
   ],
   "source": [
    "pd.DataFrame(scrape_df[\"scraped_data\"].to_list(), columns=['title', 'date', \"body\", \"ambassador\"])"
   ]
  },
  {
   "cell_type": "code",
   "execution_count": 94,
   "id": "f24cf2ec",
   "metadata": {},
   "outputs": [],
   "source": [
    "# creating a new df of the split scraped data & the storage url\n",
    "# reseting the index on the storage url in transition to fix the issue with the indicies mismatch\n",
    "scraped = pd.concat([scrape_df[\"storage_url\"].reset_index(drop=True), \n",
    "                     pd.DataFrame(scrape_df[\"scraped_data\"].to_list(), columns=['title', 'date', \"body\", \"ambassador\"])], \n",
    "                    axis=1)"
   ]
  },
  {
   "cell_type": "code",
   "execution_count": 99,
   "id": "b8c24b21",
   "metadata": {
    "scrolled": false
   },
   "outputs": [],
   "source": [
    "# converting the date column to a datetime format\n",
    "scraped[\"date\"] = pd.to_datetime(scraped[\"date\"])"
   ]
  },
  {
   "cell_type": "code",
   "execution_count": 100,
   "id": "af712542",
   "metadata": {
    "scrolled": false
   },
   "outputs": [
    {
     "data": {
      "text/html": [
       "<div>\n",
       "<style scoped>\n",
       "    .dataframe tbody tr th:only-of-type {\n",
       "        vertical-align: middle;\n",
       "    }\n",
       "\n",
       "    .dataframe tbody tr th {\n",
       "        vertical-align: top;\n",
       "    }\n",
       "\n",
       "    .dataframe thead th {\n",
       "        text-align: right;\n",
       "    }\n",
       "</style>\n",
       "<table border=\"1\" class=\"dataframe\">\n",
       "  <thead>\n",
       "    <tr style=\"text-align: right;\">\n",
       "      <th></th>\n",
       "      <th>storage_url</th>\n",
       "      <th>title</th>\n",
       "      <th>date</th>\n",
       "      <th>body</th>\n",
       "      <th>ambassador</th>\n",
       "    </tr>\n",
       "  </thead>\n",
       "  <tbody>\n",
       "    <tr>\n",
       "      <th>0</th>\n",
       "      <td>https://web.archive.org/web/20211130031323/htt...</td>\n",
       "      <td>Embassy Spokesperson's Remarks on Chinese oper...</td>\n",
       "      <td>2020-08-24 23:45:00</td>\n",
       "      <td>Question: According to British media's report,...</td>\n",
       "      <td>Ambassador Zheng Zeguang</td>\n",
       "    </tr>\n",
       "    <tr>\n",
       "      <th>1</th>\n",
       "      <td>https://web.archive.org/web/20211130052058/htt...</td>\n",
       "      <td>Embassy Spokesperson's Remarks on issues relat...</td>\n",
       "      <td>2020-08-25 21:03:00</td>\n",
       "      <td>Question: In an open letter, MPs will be urged...</td>\n",
       "      <td>Ambassador Zheng Zeguang</td>\n",
       "    </tr>\n",
       "    <tr>\n",
       "      <th>2</th>\n",
       "      <td>https://web.archive.org/web/20211130025452/htt...</td>\n",
       "      <td>Embassy Spokesperson's Remarks on issues relat...</td>\n",
       "      <td>2020-08-25 21:05:00</td>\n",
       "      <td>Question: A letter signed by religious leaders...</td>\n",
       "      <td>Ambassador Zheng Zeguang</td>\n",
       "    </tr>\n",
       "    <tr>\n",
       "      <th>3</th>\n",
       "      <td>https://web.archive.org/web/20211130042447/htt...</td>\n",
       "      <td>Embassy Spokesperson's Remarks on The Times' R...</td>\n",
       "      <td>2020-08-29 07:08:00</td>\n",
       "      <td>Question: On 28 August, The Times carried a re...</td>\n",
       "      <td>Ambassador Zheng Zeguang</td>\n",
       "    </tr>\n",
       "    <tr>\n",
       "      <th>4</th>\n",
       "      <td>https://web.archive.org/web/20211130054122/htt...</td>\n",
       "      <td>Embassy Spokesperson's Remarks on the Claim by...</td>\n",
       "      <td>2020-09-01 23:40:00</td>\n",
       "      <td>Question: On August 30th, Tom Tugendhat, Chair...</td>\n",
       "      <td>Ambassador Zheng Zeguang</td>\n",
       "    </tr>\n",
       "    <tr>\n",
       "      <th>...</th>\n",
       "      <td>...</td>\n",
       "      <td>...</td>\n",
       "      <td>...</td>\n",
       "      <td>...</td>\n",
       "      <td>...</td>\n",
       "    </tr>\n",
       "    <tr>\n",
       "      <th>368</th>\n",
       "      <td>https://web.archive.org/web/20150501185000/htt...</td>\n",
       "      <td>The Chinese Embassy in the UK Responds to Comm...</td>\n",
       "      <td>2010-09-17 00:00:00</td>\n",
       "      <td>The following is a letter from Mrs. Dai Qingli...</td>\n",
       "      <td>Ambassador Liu Xiaoming</td>\n",
       "    </tr>\n",
       "    <tr>\n",
       "      <th>369</th>\n",
       "      <td>https://web.archive.org/web/20150501181307/htt...</td>\n",
       "      <td>Chinese Embassy in the UK Refutes Jeremy Clark...</td>\n",
       "      <td>2012-01-13 00:00:00</td>\n",
       "      <td>On 7th January 2012, The Sun carried Jeremy Cl...</td>\n",
       "      <td>Ambassador Liu Xiaoming</td>\n",
       "    </tr>\n",
       "    <tr>\n",
       "      <th>370</th>\n",
       "      <td>https://web.archive.org/web/20151019074049/htt...</td>\n",
       "      <td>Chinese Embassy in the UK Refutes Jeremy Clark...</td>\n",
       "      <td>2012-01-13 00:00:00</td>\n",
       "      <td>On 7th January 2012, The Sun carried Jeremy Cl...</td>\n",
       "      <td>Ambassador Liu Xiaoming</td>\n",
       "    </tr>\n",
       "    <tr>\n",
       "      <th>371</th>\n",
       "      <td>https://web.archive.org/web/20150501180024/htt...</td>\n",
       "      <td>The Chinese Embassy refutes Guardian's report ...</td>\n",
       "      <td>2012-08-01 00:00:00</td>\n",
       "      <td>On July 25th, The Guardian carried an article ...</td>\n",
       "      <td>Ambassador Liu Xiaoming</td>\n",
       "    </tr>\n",
       "    <tr>\n",
       "      <th>372</th>\n",
       "      <td>https://web.archive.org/web/20151019091307/htt...</td>\n",
       "      <td>The Chinese Embassy refutes Guardian's report ...</td>\n",
       "      <td>2012-08-01 00:00:00</td>\n",
       "      <td>On July 25th, The Guardian carried an article ...</td>\n",
       "      <td>Ambassador Liu Xiaoming</td>\n",
       "    </tr>\n",
       "  </tbody>\n",
       "</table>\n",
       "<p>373 rows × 5 columns</p>\n",
       "</div>"
      ],
      "text/plain": [
       "                                           storage_url  \\\n",
       "0    https://web.archive.org/web/20211130031323/htt...   \n",
       "1    https://web.archive.org/web/20211130052058/htt...   \n",
       "2    https://web.archive.org/web/20211130025452/htt...   \n",
       "3    https://web.archive.org/web/20211130042447/htt...   \n",
       "4    https://web.archive.org/web/20211130054122/htt...   \n",
       "..                                                 ...   \n",
       "368  https://web.archive.org/web/20150501185000/htt...   \n",
       "369  https://web.archive.org/web/20150501181307/htt...   \n",
       "370  https://web.archive.org/web/20151019074049/htt...   \n",
       "371  https://web.archive.org/web/20150501180024/htt...   \n",
       "372  https://web.archive.org/web/20151019091307/htt...   \n",
       "\n",
       "                                                 title                date  \\\n",
       "0    Embassy Spokesperson's Remarks on Chinese oper... 2020-08-24 23:45:00   \n",
       "1    Embassy Spokesperson's Remarks on issues relat... 2020-08-25 21:03:00   \n",
       "2    Embassy Spokesperson's Remarks on issues relat... 2020-08-25 21:05:00   \n",
       "3    Embassy Spokesperson's Remarks on The Times' R... 2020-08-29 07:08:00   \n",
       "4    Embassy Spokesperson's Remarks on the Claim by... 2020-09-01 23:40:00   \n",
       "..                                                 ...                 ...   \n",
       "368  The Chinese Embassy in the UK Responds to Comm... 2010-09-17 00:00:00   \n",
       "369  Chinese Embassy in the UK Refutes Jeremy Clark... 2012-01-13 00:00:00   \n",
       "370  Chinese Embassy in the UK Refutes Jeremy Clark... 2012-01-13 00:00:00   \n",
       "371  The Chinese Embassy refutes Guardian's report ... 2012-08-01 00:00:00   \n",
       "372  The Chinese Embassy refutes Guardian's report ... 2012-08-01 00:00:00   \n",
       "\n",
       "                                                  body  \\\n",
       "0    Question: According to British media's report,...   \n",
       "1    Question: In an open letter, MPs will be urged...   \n",
       "2    Question: A letter signed by religious leaders...   \n",
       "3    Question: On 28 August, The Times carried a re...   \n",
       "4    Question: On August 30th, Tom Tugendhat, Chair...   \n",
       "..                                                 ...   \n",
       "368  The following is a letter from Mrs. Dai Qingli...   \n",
       "369  On 7th January 2012, The Sun carried Jeremy Cl...   \n",
       "370  On 7th January 2012, The Sun carried Jeremy Cl...   \n",
       "371  On July 25th, The Guardian carried an article ...   \n",
       "372  On July 25th, The Guardian carried an article ...   \n",
       "\n",
       "                   ambassador  \n",
       "0    Ambassador Zheng Zeguang  \n",
       "1    Ambassador Zheng Zeguang  \n",
       "2    Ambassador Zheng Zeguang  \n",
       "3    Ambassador Zheng Zeguang  \n",
       "4    Ambassador Zheng Zeguang  \n",
       "..                        ...  \n",
       "368   Ambassador Liu Xiaoming  \n",
       "369   Ambassador Liu Xiaoming  \n",
       "370   Ambassador Liu Xiaoming  \n",
       "371   Ambassador Liu Xiaoming  \n",
       "372   Ambassador Liu Xiaoming  \n",
       "\n",
       "[373 rows x 5 columns]"
      ]
     },
     "execution_count": 100,
     "metadata": {},
     "output_type": "execute_result"
    }
   ],
   "source": [
    "scraped"
   ]
  },
  {
   "cell_type": "code",
   "execution_count": 102,
   "id": "3ac1a153",
   "metadata": {},
   "outputs": [],
   "source": [
    "scraped.to_json(\"PRC-UK_Embassy_press_releases.ndjson\",orient=\"records\",lines=True)"
   ]
  }
 ],
 "metadata": {
  "kernelspec": {
   "display_name": "Python 3",
   "language": "python",
   "name": "python3"
  },
  "language_info": {
   "codemirror_mode": {
    "name": "ipython",
    "version": 3
   },
   "file_extension": ".py",
   "mimetype": "text/x-python",
   "name": "python",
   "nbconvert_exporter": "python",
   "pygments_lexer": "ipython3",
   "version": "3.8.8"
  }
 },
 "nbformat": 4,
 "nbformat_minor": 5
}

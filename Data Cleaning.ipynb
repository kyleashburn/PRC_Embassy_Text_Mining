{
 "cells": [
  {
   "cell_type": "code",
   "execution_count": 1,
   "id": "5ee7dd66",
   "metadata": {},
   "outputs": [],
   "source": [
    "import pandas as pd\n",
    "import matplotlib.pyplot as plt\n",
    "import seaborn as sns\n",
    "import numpy as np\n",
    "import fasttext\n",
    "from pycountry import languages\n",
    "import re\n"
   ]
  },
  {
   "cell_type": "code",
   "execution_count": 2,
   "id": "b463e998",
   "metadata": {},
   "outputs": [],
   "source": [
    "# reading in the data\n",
    "data = pd.read_json(\"PRC-UK_Embassy_press_releases.ndjson\",lines=True)"
   ]
  },
  {
   "cell_type": "code",
   "execution_count": 3,
   "id": "128d5382",
   "metadata": {},
   "outputs": [],
   "source": [
    "# creating new columns for the length of title and body in terms of words\n",
    "data[\"title_length\"] = data[\"title\"].str.split().apply(len)\n",
    "data[\"body_length\"] = data[\"body\"].str.split().apply(len)"
   ]
  },
  {
   "cell_type": "code",
   "execution_count": 17,
   "id": "bf7fabc2",
   "metadata": {},
   "outputs": [],
   "source": [
    "# fixing the datetime issues early on (the screwey values)\n",
    "# if the date is before 2021-01-31, then the ambassador is Liu Xiaoming\n",
    "data.loc[data[\"date\"] < \"2021-01-31\", \"ambassador\"] = \"Ambassador Liu Xiaoming\"\n",
    "# if the date is after 2021-06-07, then the ambassador is Zheng Zeguang\n",
    "data.loc[data[\"date\"] > \"2021-06-07\" , \"ambassador\"] = \"Ambassador Zheng Zeguang\"\n",
    "# if the date is neither of those, then the ambassador is \"Vacant\"\n",
    "data.loc[(data[\"date\"] < \"2021-06-07\") & (data[\"date\"] > \"2021-01-31\"), \"ambassador\"] = \"Vacant\""
   ]
  },
  {
   "cell_type": "code",
   "execution_count": 22,
   "id": "17614788",
   "metadata": {},
   "outputs": [
    {
     "data": {
      "text/plain": [
       "<AxesSubplot:ylabel='ambassador'>"
      ]
     },
     "execution_count": 22,
     "metadata": {},
     "output_type": "execute_result"
    },
    {
     "data": {
      "image/png": "[encoded data removed]",
      "text/plain": [
       "<Figure size 432x288 with 1 Axes>"
      ]
     },
     "metadata": {},
     "output_type": "display_data"
    }
   ],
   "source": [
    "data[\"ambassador\"].value_counts().plot.pie()"
   ]
  },
  {
   "cell_type": "code",
   "execution_count": 23,
   "id": "6376655d",
   "metadata": {},
   "outputs": [],
   "source": [
    "data.to_json(\"PRC-UK_Embassy_press_releases_cleaned.ndjson\",orient=\"records\",lines=True)"
   ]
  },
  {
   "cell_type": "code",
   "execution_count": null,
   "id": "cee958c2",
   "metadata": {},
   "outputs": [],
   "source": []
  }
 ],
 "metadata": {
  "kernelspec": {
   "display_name": "Python 3",
   "language": "python",
   "name": "python3"
  },
  "language_info": {
   "codemirror_mode": {
    "name": "ipython",
    "version": 3
   },
   "file_extension": ".py",
   "mimetype": "text/x-python",
   "name": "python",
   "nbconvert_exporter": "python",
   "pygments_lexer": "ipython3",
   "version": "3.8.8"
  }
 },
 "nbformat": 4,
 "nbformat_minor": 5
}

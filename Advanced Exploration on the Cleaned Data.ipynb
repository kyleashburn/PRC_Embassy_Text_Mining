{
 "cells": [
  {
   "cell_type": "code",
   "execution_count": 1,
   "id": "62f61e4b",
   "metadata": {},
   "outputs": [],
   "source": [
    "import pandas as pd\n",
    "import matplotlib.pyplot as plt\n",
    "import seaborn as sns\n",
    "import numpy as np\n",
    "import nltk\n",
    "import fasttext\n",
    "import string\n",
    "from pycountry import languages\n",
    "import re\n",
    "from gensim.parsing.preprocessing import remove_stopwords\n",
    "from textblob import TextBlob\n",
    "from vaderSentiment.vaderSentiment import SentimentIntensityAnalyzer\n",
    "\n"
   ]
  },
  {
   "cell_type": "code",
   "execution_count": 2,
   "id": "17c223b6",
   "metadata": {},
   "outputs": [
    {
     "name": "stderr",
     "output_type": "stream",
     "text": [
      "[nltk_data] Downloading package wordnet to\n",
      "[nltk_data]     C:\\Users\\ashbu\\AppData\\Roaming\\nltk_data...\n",
      "[nltk_data]   Package wordnet is already up-to-date!\n"
     ]
    },
    {
     "data": {
      "text/plain": [
       "True"
      ]
     },
     "execution_count": 2,
     "metadata": {},
     "output_type": "execute_result"
    }
   ],
   "source": [
    "nltk.download('wordnet')\n"
   ]
  },
  {
   "cell_type": "code",
   "execution_count": 3,
   "id": "b7afd088",
   "metadata": {},
   "outputs": [
    {
     "name": "stderr",
     "output_type": "stream",
     "text": [
      "Warning : `load_model` does not return WordVectorModel or SupervisedModel any more, but a `FastText` object which is very similar.\n"
     ]
    }
   ],
   "source": [
    "# bringing in the model path for fasttext\n",
    "PRETRAINED_MODEL_PATH = 'lid.176.bin'\n",
    "model = fasttext.load_model(PRETRAINED_MODEL_PATH)\n"
   ]
  },
  {
   "cell_type": "code",
   "execution_count": 4,
   "id": "3952f504",
   "metadata": {},
   "outputs": [],
   "source": [
    "# function to help figure out the language\n",
    "def lang_class(x):\n",
    "    x = x .replace(\"\\n\", \" \")\n",
    "    lang = model.predict(x)\n",
    "    \n",
    "    return lang"
   ]
  },
  {
   "cell_type": "code",
   "execution_count": 5,
   "id": "0551988b",
   "metadata": {},
   "outputs": [],
   "source": [
    "# function to help retrieve the language name using the language code\n",
    "def lang_from_code(x):\n",
    "    x = x[0]\n",
    "    x = str(x)\n",
    "  \n",
    "    match = re.match(r\"__label__([a-zA-Z]+)\", x)\n",
    "    match = match.group(1)\n",
    "\n",
    "    if len(match) == 2:\n",
    "        \n",
    "        try:\n",
    "            lang = languages.get(alpha_2=match).name\n",
    "\n",
    "        except:\n",
    "            lang = match\n",
    "    elif len(match) == 3:\n",
    "        try:\n",
    "            lang = languages.get(alpha_3=match).name\n",
    "        \n",
    "        except:   \n",
    "            lang = match\n",
    "        \n",
    "    return(lang)"
   ]
  },
  {
   "cell_type": "code",
   "execution_count": 6,
   "id": "b34e1356",
   "metadata": {},
   "outputs": [],
   "source": [
    "# global vars -> but not too terrible because otherwise it slows down executation by orders of magnitude\n",
    "stopwords = nltk.corpus.stopwords.words(\"english\")\n",
    "import string\n",
    "punct = string.punctuation\n",
    "from nltk.stem import WordNetLemmatizer\n",
    "wordnet_lemmatizer = WordNetLemmatizer()\n",
    "\n",
    "# pre-proc function to lowercase, rm punct, #s, stopwords, split & lemmatize\n",
    "def pre_proc(x):\n",
    "    # lowercasing the text -> slight possibility of an issue with names...but should be okayish\n",
    "    x = x.lower()\n",
    "   \n",
    "    # removing punctuation\n",
    "    x = x.translate(str.maketrans('', '', punct))\n",
    "    \n",
    "    # removing double-spaces by changing them to single spaces\n",
    "    x = x.replace(\"  \", \" \")\n",
    "    \n",
    "    # removing numbers \n",
    "    x = ''.join(filter(lambda string: not string.isdigit(), x))\n",
    "\n",
    "    # removing the stopwords\n",
    "    x = remove_stopwords(x)\n",
    "        \n",
    "    # splitting the press releases\n",
    "    x = x.split()\n",
    "    \n",
    "    # lemmatizing the words in the releases ->\n",
    "    x = [wordnet_lemmatizer.lemmatize(word) for word in x]\n",
    "    \n",
    "    # joining together the elements in the tokenized list\n",
    "    x = \" \".join(x)  \n",
    "        \n",
    "    # making sure I don't forget to return my result ;) \n",
    "    return x"
   ]
  },
  {
   "cell_type": "code",
   "execution_count": 7,
   "id": "106b5ba6",
   "metadata": {},
   "outputs": [],
   "source": [
    "# reading in the cleaned data\n",
    "data = pd.read_json(\"PRC-UK_Embassy_press_releases_cleaned.ndjson\",lines=True)"
   ]
  },
  {
   "cell_type": "markdown",
   "id": "70408dba",
   "metadata": {},
   "source": [
    "### Looking at the more complicated stuffs"
   ]
  },
  {
   "cell_type": "markdown",
   "id": "6f73b05a",
   "metadata": {},
   "source": [
    "#### Fasttext language classification on body"
   ]
  },
  {
   "cell_type": "code",
   "execution_count": 8,
   "id": "ef0915a4",
   "metadata": {},
   "outputs": [
    {
     "name": "stdout",
     "output_type": "stream",
     "text": [
      "Wall time: 129 ms\n"
     ]
    }
   ],
   "source": [
    "%%time\n",
    "# trying to detecting the languages present here\n",
    "data['bo_lang'] = data['body'].apply(lang_class)"
   ]
  },
  {
   "cell_type": "code",
   "execution_count": 9,
   "id": "63f0a6c4",
   "metadata": {},
   "outputs": [
    {
     "name": "stdout",
     "output_type": "stream",
     "text": [
      "Wall time: 2.03 ms\n"
     ]
    }
   ],
   "source": [
    "%%time\n",
    "# splitting the tuples found in the lang_class column\n",
    "data[[\"bo_lang\",\"conf\"]] = pd.DataFrame(data['bo_lang'].tolist(), index=data.index)\n"
   ]
  },
  {
   "cell_type": "code",
   "execution_count": 10,
   "id": "4c193d42",
   "metadata": {},
   "outputs": [
    {
     "name": "stdout",
     "output_type": "stream",
     "text": [
      "Wall time: 32 ms\n"
     ]
    }
   ],
   "source": [
    "%%time\n",
    "# applying func to pull lang code\n",
    "data[\"bo_lang\"] = data[\"bo_lang\"].apply(lang_from_code)"
   ]
  },
  {
   "cell_type": "code",
   "execution_count": 11,
   "id": "12a019a0",
   "metadata": {},
   "outputs": [
    {
     "data": {
      "text/plain": [
       "English    373\n",
       "Name: bo_lang, dtype: int64"
      ]
     },
     "execution_count": 11,
     "metadata": {},
     "output_type": "execute_result"
    }
   ],
   "source": [
    "data[\"bo_lang\"].value_counts()"
   ]
  },
  {
   "cell_type": "code",
   "execution_count": 12,
   "id": "7add08ba",
   "metadata": {},
   "outputs": [
    {
     "data": {
      "text/plain": [
       "0      [0.9390600919723511]\n",
       "1      [0.9533370733261108]\n",
       "2       [0.952850878238678]\n",
       "3      [0.9550470113754272]\n",
       "4      [0.9619375467300415]\n",
       "               ...         \n",
       "368    [0.9459292888641357]\n",
       "369    [0.9434953331947327]\n",
       "370    [0.9434953331947327]\n",
       "371    [0.9681368470191956]\n",
       "372    [0.9681368470191956]\n",
       "Name: conf, Length: 373, dtype: object"
      ]
     },
     "execution_count": 12,
     "metadata": {},
     "output_type": "execute_result"
    }
   ],
   "source": [
    "# need to convert the confidence from single deep lists into actual values\n",
    "data[\"conf\"]"
   ]
  },
  {
   "cell_type": "markdown",
   "id": "f567c049",
   "metadata": {},
   "source": [
    "### Data Cleaning"
   ]
  },
  {
   "cell_type": "code",
   "execution_count": 13,
   "id": "224fb9ad",
   "metadata": {},
   "outputs": [
    {
     "name": "stdout",
     "output_type": "stream",
     "text": [
      "Wall time: 1.93 s\n"
     ]
    }
   ],
   "source": [
    "%%time\n",
    "# cleaning function -> returns un tokenized text but cleaned w/stopwords removed\n",
    "data[\"cleaned\"] = data[\"body\"].apply(pre_proc)"
   ]
  },
  {
   "cell_type": "markdown",
   "id": "0f060c71",
   "metadata": {},
   "source": [
    "### Single Term Frequency"
   ]
  },
  {
   "cell_type": "markdown",
   "id": "cf9d1207",
   "metadata": {},
   "source": [
    "#### Term Frequency overall"
   ]
  },
  {
   "cell_type": "code",
   "execution_count": 14,
   "id": "17123a3c",
   "metadata": {},
   "outputs": [],
   "source": [
    "from sklearn.feature_extraction.text import CountVectorizer\n",
    "\n",
    "# vectorizing the posts\n",
    "# initializing the vectorizer\n",
    "# setting min doc freq to 1 release b/c of the small size of the corpus (not setting max df b/c of a fear of losing things)\n",
    "vectorizer = CountVectorizer(min_df=1)\n",
    "\n",
    "# applying the vectorizer\n",
    "tf = vectorizer.fit_transform(data[\"cleaned\"])\n",
    "\n",
    "# pulling the terms\n",
    "tf_feature_names = vectorizer.get_feature_names()\n",
    "\n",
    "# pulling the term counts\n",
    "term_counts = np.asarray(tf.sum(axis=0))[0]\n",
    "\n",
    "# making a dictionary w/terms and term counts\n",
    "term_freqs = dict(zip(tf_feature_names, term_counts))"
   ]
  },
  {
   "cell_type": "code",
   "execution_count": 15,
   "id": "ebd509f6",
   "metadata": {},
   "outputs": [
    {
     "data": {
      "text/plain": [
       "{'china': 2349,\n",
       " 'chinese': 1080,\n",
       " 'country': 1062,\n",
       " 'hong': 995,\n",
       " 'kong': 966,\n",
       " 'people': 910,\n",
       " 'xinjiang': 758,\n",
       " 'uk': 753,\n",
       " 'law': 723,\n",
       " 'international': 629,\n",
       " 'right': 591,\n",
       " 'development': 497,\n",
       " 'affair': 489,\n",
       " 'security': 436,\n",
       " 'government': 432,\n",
       " 'national': 414,\n",
       " 'global': 400,\n",
       " 'world': 384,\n",
       " 'ethnic': 372,\n",
       " 'cooperation': 356,\n",
       " 'embassy': 343,\n",
       " 'report': 319,\n",
       " 'time': 310,\n",
       " 'year': 282,\n",
       " 'foreign': 281,\n",
       " 'group': 268,\n",
       " 'state': 268,\n",
       " 'question': 248,\n",
       " 'measure': 240,\n",
       " 'policy': 237,\n",
       " 'internal': 234,\n",
       " 'public': 233,\n",
       " 'region': 233,\n",
       " 'joint': 229,\n",
       " 'covid': 226,\n",
       " 'relevant': 224,\n",
       " 'spokesperson': 223,\n",
       " 'fact': 215,\n",
       " 'economic': 214,\n",
       " 'freedom': 211,\n",
       " 'including': 210,\n",
       " 'issue': 205,\n",
       " 'effort': 204,\n",
       " 'comment': 201,\n",
       " 'community': 198,\n",
       " 'th': 195,\n",
       " 'democracy': 193,\n",
       " 'letter': 191,\n",
       " 'human': 189,\n",
       " 'million': 188}"
      ]
     },
     "execution_count": 15,
     "metadata": {},
     "output_type": "execute_result"
    }
   ],
   "source": [
    "# looks at the top 50 terms to be found here overall\n",
    "# takes advantage of the return type of sorted (a list of tuples) and takes a slice before making a dict from that\n",
    "dict((sorted(term_freqs.items(), key=lambda item: item[1],reverse=True))[0:50])"
   ]
  },
  {
   "cell_type": "markdown",
   "id": "7445a7a7",
   "metadata": {},
   "source": [
    "Looking at the terms and their frequency. We don't see anything too surprising here to a student of global affairs. Quite a bit about China and Chinese, Hong Kong, the UK. Standard terms such as international, right, law, global, government, and security. Question isn't too surprising as it is a common enough term that pops up in the corpus (many of the releases follow a Q&A format to a degree). While \"th\" clearly refers to dates (after I removed the #'s)."
   ]
  },
  {
   "cell_type": "markdown",
   "id": "92a4b14a",
   "metadata": {},
   "source": [
    "#### TF by Ambassador"
   ]
  },
  {
   "cell_type": "code",
   "execution_count": 16,
   "id": "c3f5bfd6",
   "metadata": {
    "scrolled": false
   },
   "outputs": [
    {
     "data": {
      "text/plain": [
       "array(['Ambassador Liu Xiaoming', 'Vacant', 'Ambassador Zheng Zeguang'],\n",
       "      dtype=object)"
      ]
     },
     "execution_count": 16,
     "metadata": {},
     "output_type": "execute_result"
    }
   ],
   "source": [
    "# checking the ambassador names (it's been a hot minute since I touched this project)\n",
    "data[\"ambassador\"].unique()"
   ]
  },
  {
   "cell_type": "code",
   "execution_count": 17,
   "id": "ec9fa7ef",
   "metadata": {},
   "outputs": [],
   "source": [
    "# making a term_freq function\n",
    "def term_freq_func(input_df):\n",
    "\n",
    "    # applying the vectorizer\n",
    "    func_tf = vectorizer.fit_transform(input_df[\"cleaned\"])\n",
    "\n",
    "    # pulling the terms\n",
    "    func_tf_feature_names = vectorizer.get_feature_names()\n",
    "\n",
    "    # pulling the term counts\n",
    "    func_term_counts = np.asarray(tf.sum(axis=0))[0]\n",
    "\n",
    "    # making a dictionary w/terms and term counts\n",
    "    func_term_freqs = dict(zip(func_tf_feature_names, func_term_counts))\n",
    "    \n",
    "    return (func_term_freqs)"
   ]
  },
  {
   "cell_type": "code",
   "execution_count": 18,
   "id": "c9a085a1",
   "metadata": {},
   "outputs": [],
   "source": [
    "# first step is to run it per ambassador and then run the top terms for each of those :(\n",
    "amb_z = data[data[\"ambassador\"]==\"Ambassador Zheng Zeguang\"]\n",
    "amb_x = data[data[\"ambassador\"]==\"Ambassador Liu Xiaoming\"]\n",
    "v_amb = data[data[\"ambassador\"]==\"Vacant\"]"
   ]
  },
  {
   "cell_type": "code",
   "execution_count": 19,
   "id": "7f015c97",
   "metadata": {},
   "outputs": [],
   "source": [
    "# applying the function to each subset\n",
    "amb_z_tf = term_freq_func(amb_z)\n",
    "amb_x_tf = term_freq_func(amb_x)\n",
    "v_amb_tf = term_freq_func(v_amb)"
   ]
  },
  {
   "cell_type": "code",
   "execution_count": 20,
   "id": "23c75cbf",
   "metadata": {},
   "outputs": [
    {
     "data": {
      "text/plain": [
       "{'dictated': 2349,\n",
       " 'discussed': 1080,\n",
       " 'goal': 1062,\n",
       " 'showing': 995,\n",
       " 'victimchina': 966,\n",
       " 'way': 723,\n",
       " 'tibet': 629,\n",
       " 'invite': 497,\n",
       " 'anderlini': 489,\n",
       " 'resist': 432,\n",
       " 'represents': 400,\n",
       " 'ordered': 372,\n",
       " 'frequent': 356,\n",
       " 'mr': 343,\n",
       " 'qualified': 281,\n",
       " 'return': 268,\n",
       " 'thwart': 234,\n",
       " 'unlike': 229,\n",
       " 'greater': 226,\n",
       " 'policisation': 215,\n",
       " 'meng': 214,\n",
       " 'reality': 211,\n",
       " 'stricter': 210,\n",
       " 'trying': 205,\n",
       " 'minority': 204,\n",
       " 'employment': 201,\n",
       " 'enhance': 198,\n",
       " 'indicates': 193,\n",
       " 'worker': 191,\n",
       " 'society': 189,\n",
       " 'color': 180,\n",
       " 'thischina': 178,\n",
       " 'seek': 173,\n",
       " 'count': 168,\n",
       " 'drive': 168,\n",
       " 'acute': 165,\n",
       " 'milan': 152,\n",
       " 'calling': 147,\n",
       " 'formulation': 147,\n",
       " 'declassified': 145,\n",
       " 'enforcement': 141,\n",
       " 'xie': 138,\n",
       " 'affair': 135,\n",
       " 'reduced': 135,\n",
       " 'put': 134,\n",
       " 'actually': 132,\n",
       " 'delegation': 131,\n",
       " 'reversing': 124,\n",
       " 'thousand': 124,\n",
       " 'invitation': 122}"
      ]
     },
     "execution_count": 20,
     "metadata": {},
     "output_type": "execute_result"
    }
   ],
   "source": [
    "# looking at the top 50 words for Ambassador Zeguang\n",
    "dict((sorted(amb_z_tf.items(), key=lambda item: item[1],reverse=True))[0:50])"
   ]
  },
  {
   "cell_type": "markdown",
   "id": "fe4f6f12",
   "metadata": {},
   "source": [
    "Looking at the term frequency under Ambassador Zeguang, we can see that there a few words where there appears to have been some pre-processing issues (\"thischina\" & \"victimchina\"). Interestingly, it also looks like a lot of the terms in the top 50 words are verbs in either the past or present tense. As I am not too familiar with press releases from embassies, it is entirely possible this is the norm. "
   ]
  },
  {
   "cell_type": "code",
   "execution_count": 21,
   "id": "0af78b1a",
   "metadata": {},
   "outputs": [
    {
     "data": {
      "text/plain": [
       "{'compromisewithdrawal': 2349,\n",
       " 'confident': 1080,\n",
       " 'disassociated': 1062,\n",
       " 'main': 995,\n",
       " 'participating': 966,\n",
       " 'sign': 910,\n",
       " 'persecuting': 723,\n",
       " 'nonexclusive': 629,\n",
       " 'wildlife': 591,\n",
       " 'estimation': 497,\n",
       " 'afternoon': 489,\n",
       " 'kazak': 432,\n",
       " 'relatively': 414,\n",
       " 'journalism': 400,\n",
       " 'habit': 372,\n",
       " 'detectedchina': 356,\n",
       " 'fringe': 343,\n",
       " 'usually': 319,\n",
       " 'instance': 281,\n",
       " 'labor': 268,\n",
       " 'thubten': 248,\n",
       " 'provincialmunicipaldistrictcounty': 240,\n",
       " 'spokesperson': 237,\n",
       " 'nonessential': 234,\n",
       " 'terrorist': 233,\n",
       " 'unanimously': 233,\n",
       " 'original': 229,\n",
       " 'disdain': 226,\n",
       " 'universal': 224,\n",
       " 'humanity': 215,\n",
       " 'followsi': 214,\n",
       " 'interregional': 211,\n",
       " 'ministerial': 210,\n",
       " 'offence': 205,\n",
       " 'formally': 204,\n",
       " 'corp': 201,\n",
       " 'countrieswe': 198,\n",
       " 'enactment': 193,\n",
       " 'plundered': 191,\n",
       " 'manufactured': 189,\n",
       " 'raided': 188,\n",
       " 'spokeswoman': 188,\n",
       " 'unfccc': 186,\n",
       " 'booth': 180,\n",
       " 'yubo': 179,\n",
       " 'newspaper': 178,\n",
       " 'publisher': 176,\n",
       " 'sharh': 175,\n",
       " 'limited': 173,\n",
       " 'suffering': 173}"
      ]
     },
     "execution_count": 21,
     "metadata": {},
     "output_type": "execute_result"
    }
   ],
   "source": [
    "# looking at the top 50 words for Ambassador Xiaoming\n",
    "dict((sorted(amb_x_tf.items(), key=lambda item: item[1],reverse=True))[0:50])"
   ]
  },
  {
   "cell_type": "markdown",
   "id": "89404591",
   "metadata": {},
   "source": [
    "Looking at the term frequency under Ambassador Xiaoming, we can see that we again have words messed up by the pre-processing (or perhaps for another reason) (\"compromisewithdrawal\", \"detectedchina\" & \"provincialmunicipaldistrictcounty\"). However, the words here are not action words in the same way Ambassador Zeguang had them so we can say there's a qualitative difference between the messaging under these two ambassadors."
   ]
  },
  {
   "cell_type": "code",
   "execution_count": 22,
   "id": "a63c40ac",
   "metadata": {},
   "outputs": [
    {
     "data": {
      "text/plain": [
       "{'refutation': 2349,\n",
       " 'reproachfifth': 1080,\n",
       " 'care': 489,\n",
       " 'strategic': 201,\n",
       " 'tantamount': 198,\n",
       " 'hong': 180,\n",
       " 'mixed': 168,\n",
       " 'shall': 168,\n",
       " 'allows': 165,\n",
       " 'ensures': 147,\n",
       " 'plane': 145,\n",
       " 'systematic': 141,\n",
       " 'attacking': 135,\n",
       " 'allowed': 132,\n",
       " 'preposterous': 131,\n",
       " 'providing': 118,\n",
       " 'truthfulness': 115,\n",
       " 'theft': 110,\n",
       " 'history': 109,\n",
       " 'authorized': 108,\n",
       " 'economist': 97,\n",
       " 'persecution': 97,\n",
       " 'survive': 97,\n",
       " 'close': 96,\n",
       " 'president': 96,\n",
       " 'arab': 92,\n",
       " 'representation': 92,\n",
       " 'support': 87,\n",
       " 'intervene': 86,\n",
       " 'untrue': 85,\n",
       " 'bno': 81,\n",
       " 'objectiveness': 79,\n",
       " 'far': 77,\n",
       " 'deliberately': 76,\n",
       " 'future': 73,\n",
       " 'counterterrorism': 72,\n",
       " 'rumour': 72,\n",
       " 'intention': 71,\n",
       " 'journalism': 71,\n",
       " 'hoped': 70,\n",
       " 'foundation': 69,\n",
       " 'visa': 69,\n",
       " 'assistance': 68,\n",
       " 'property': 66,\n",
       " 'newspaper': 64,\n",
       " 'unity': 62,\n",
       " 'sar': 61,\n",
       " 'supervision': 59,\n",
       " 'board': 58,\n",
       " 'decision': 58}"
      ]
     },
     "execution_count": 22,
     "metadata": {},
     "output_type": "execute_result"
    }
   ],
   "source": [
    "# looking at the top 50 words when the ambassadorship was vacant\n",
    "dict((sorted(v_amb_tf.items(), key=lambda item: item[1],reverse=True))[0:50])"
   ]
  },
  {
   "cell_type": "markdown",
   "id": "12135c7e",
   "metadata": {},
   "source": [
    "Looking at the terms when there was no ambassador in office, we can see the terms are different again. \"Refutation\" is a strong word and is the most frequent term. Overall, the seeming sentiment of the top terms here tend to be more negative and the words seem to be more combative. Again, we have the same issue with pre-processing (\"reproachfifth\"). Looking at Hong, we can guess that related to Hong Kong (as SAR likely does) but until we run the bi-gram analysis, we can't say for sure."
   ]
  },
  {
   "cell_type": "markdown",
   "id": "eb0c75d0",
   "metadata": {},
   "source": [
    "Overall, it is clear the terms that are most frequent with each ambassador (or when it is vacant) are quite different. While this isn't shocking, it shows the degree to which who is in a role affacts word choices (though here, one *can* make a reasonable argument for international affairs and events acting as a confounding factor). "
   ]
  },
  {
   "cell_type": "markdown",
   "id": "0fad5df5",
   "metadata": {},
   "source": [
    "### Bi-gram & Tri-gram TF"
   ]
  },
  {
   "cell_type": "markdown",
   "id": "6add46b3",
   "metadata": {},
   "source": [
    "#### Looking first at the entirety of the corpus"
   ]
  },
  {
   "cell_type": "code",
   "execution_count": 38,
   "id": "06edabe9",
   "metadata": {},
   "outputs": [],
   "source": [
    "from sklearn.feature_extraction.text import CountVectorizer\n",
    "\n",
    "# vectorizing the posts\n",
    "# initializing the vectorizer\n",
    "# setting min doc freq to 1 release b/c of the small size of the corpus (not setting max df b/c of a fear of losing things)\n",
    "# setting ngram range to take into account bigrams and trigrams (slows down things a smidge I'm sure)\n",
    "ubt_vectorizer = CountVectorizer(ngram_range=(1,3), min_df=1)\n",
    "\n",
    "# applying the vectorizer\n",
    "ubt_tf = ubt_vectorizer.fit_transform(data[\"cleaned\"])\n",
    "\n",
    "# pulling the terms\n",
    "ubt_tf_feature_names = ubt_vectorizer.get_feature_names()\n",
    "\n",
    "# pulling the term counts\n",
    "ubt_term_counts = np.asarray(ubt_tf.sum(axis=0))[0]\n",
    "\n",
    "# making a dictionary w/terms and term counts\n",
    "ubt_term_freqs = dict(zip(ubt_tf_feature_names, ubt_term_counts))"
   ]
  },
  {
   "cell_type": "code",
   "execution_count": 41,
   "id": "0f46ce6f",
   "metadata": {},
   "outputs": [
    {
     "data": {
      "text/plain": [
       "{'china': 2349,\n",
       " 'chinese': 1080,\n",
       " 'country': 1062,\n",
       " 'hong': 995,\n",
       " 'kong': 966,\n",
       " 'hong kong': 950,\n",
       " 'people': 910,\n",
       " 'xinjiang': 758,\n",
       " 'uk': 753,\n",
       " 'law': 723,\n",
       " 'international': 629,\n",
       " 'right': 591,\n",
       " 'development': 497,\n",
       " 'affair': 489,\n",
       " 'security': 436,\n",
       " 'government': 432,\n",
       " 'national': 414,\n",
       " 'global': 400,\n",
       " 'world': 384,\n",
       " 'ethnic': 372,\n",
       " 'cooperation': 356,\n",
       " 'embassy': 343,\n",
       " 'report': 319,\n",
       " 'time': 310,\n",
       " 'chinese embassy': 295,\n",
       " 'year': 282,\n",
       " 'foreign': 281,\n",
       " 'group': 268,\n",
       " 'state': 268,\n",
       " 'question': 248,\n",
       " 'measure': 240,\n",
       " 'policy': 237,\n",
       " 'internal': 234,\n",
       " 'public': 233,\n",
       " 'region': 233,\n",
       " 'joint': 229,\n",
       " 'covid': 226,\n",
       " 'relevant': 224,\n",
       " 'spokesperson': 223,\n",
       " 'fact': 215,\n",
       " 'economic': 214,\n",
       " 'internal affair': 214,\n",
       " 'freedom': 211,\n",
       " 'national security': 211,\n",
       " 'including': 210,\n",
       " 'issue': 205,\n",
       " 'effort': 204,\n",
       " 'comment': 201,\n",
       " 'community': 198,\n",
       " 'th': 195}"
      ]
     },
     "execution_count": 41,
     "metadata": {},
     "output_type": "execute_result"
    }
   ],
   "source": [
    "# looks at the top 50 terms to be found here overall\n",
    "# takes advantage of the return type of sorted (a list of tuples) and takes a slice before making a dict from that\n",
    "dict((sorted(ubt_term_freqs.items(), key=lambda item: item[1],reverse=True))[0:50])"
   ]
  },
  {
   "cell_type": "markdown",
   "id": "42f822bf",
   "metadata": {},
   "source": [
    "We can pretty clearly see that the top terms aren't too different when we include bigrams and trigrams. A few make it into there: \"national security\", \"internal affair\", \"chinese embassy\", \"hong kong\". These are of course rather obvious ones to  a student of Chinese relations. "
   ]
  },
  {
   "cell_type": "markdown",
   "id": "9194d001",
   "metadata": {},
   "source": [
    "#### Looking at each ambassador"
   ]
  },
  {
   "cell_type": "code",
   "execution_count": 42,
   "id": "b1365679",
   "metadata": {},
   "outputs": [],
   "source": [
    "# making a term_freq function\n",
    "def ubt_term_freq_func(input_df):\n",
    "    \n",
    "    # applying the vectorizer\n",
    "    ubt_func_tf = ubt_vectorizer.fit_transform(input_df[\"cleaned\"])\n",
    "\n",
    "    # pulling the terms\n",
    "    ubt_func_tf_feature_names = ubt_vectorizer.get_feature_names()\n",
    "\n",
    "    # pulling the term counts\n",
    "    ubt_func_term_counts = np.asarray(ubt_func_tf.sum(axis=0))[0]\n",
    "\n",
    "    # making a dictionary w/terms and term counts\n",
    "    ubt_func_term_freqs = dict(zip(ubt_func_tf_feature_names, ubt_func_term_counts))\n",
    "    \n",
    "    return (ubt_func_term_freqs)"
   ]
  },
  {
   "cell_type": "code",
   "execution_count": 43,
   "id": "8aa42a81",
   "metadata": {},
   "outputs": [],
   "source": [
    "# first step is to run it per ambassador and then run the top terms for each of those :(\n",
    "amb_z = data[data[\"ambassador\"]==\"Ambassador Zheng Zeguang\"]\n",
    "amb_x = data[data[\"ambassador\"]==\"Ambassador Liu Xiaoming\"]\n",
    "v_amb = data[data[\"ambassador\"]==\"Vacant\"]"
   ]
  },
  {
   "cell_type": "code",
   "execution_count": 44,
   "id": "069ae8d0",
   "metadata": {},
   "outputs": [],
   "source": [
    "# applying the function to each subset\n",
    "ubt_amb_z_tf = ubt_term_freq_func(amb_z)\n",
    "ubt_amb_x_tf = ubt_term_freq_func(amb_x)\n",
    "ubt_v_amb_tf = ubt_term_freq_func(v_amb)"
   ]
  },
  {
   "cell_type": "markdown",
   "id": "e4430bf1",
   "metadata": {},
   "source": [
    "#### Ambassador Zeguang"
   ]
  },
  {
   "cell_type": "code",
   "execution_count": 49,
   "id": "58b726cf",
   "metadata": {},
   "outputs": [
    {
     "data": {
      "text/plain": [
       "{'china': 676,\n",
       " 'country': 349,\n",
       " 'people': 299,\n",
       " 'chinese': 240,\n",
       " 'international': 233,\n",
       " 'development': 194,\n",
       " 'hong': 193,\n",
       " 'kong': 189,\n",
       " 'hong kong': 188,\n",
       " 'uk': 175,\n",
       " 'democracy': 167,\n",
       " 'global': 132,\n",
       " 'world': 132,\n",
       " 'right': 131,\n",
       " 'cooperation': 130,\n",
       " 'report': 112,\n",
       " 'affair': 110,\n",
       " 'state': 110,\n",
       " 'political': 109,\n",
       " 'law': 108,\n",
       " 'government': 100,\n",
       " 'community': 98,\n",
       " 'question': 95,\n",
       " 'security': 89,\n",
       " 'party': 87,\n",
       " 'covid': 86,\n",
       " 'spokesperson': 83,\n",
       " 'national': 82,\n",
       " 'nuclear': 82,\n",
       " 'xinjiang': 81,\n",
       " 'relevant': 80,\n",
       " 'issue': 79,\n",
       " 'joint': 79,\n",
       " 'support': 79,\n",
       " 'foreign': 78,\n",
       " 'including': 77,\n",
       " 'origin': 75,\n",
       " 'taiwan': 70,\n",
       " 'principle': 69,\n",
       " 'work': 68,\n",
       " 'year': 67,\n",
       " 'effort': 66,\n",
       " 'democratic': 65,\n",
       " 'new': 65,\n",
       " 'stability': 65,\n",
       " 'economic': 64,\n",
       " 'interest': 64,\n",
       " 'international community': 64,\n",
       " 'time': 62,\n",
       " 'study': 59}"
      ]
     },
     "execution_count": 49,
     "metadata": {},
     "output_type": "execute_result"
    }
   ],
   "source": [
    "# looking at the top 50 words for Ambassador Zeguang\n",
    "dict((sorted(ubt_amb_z_tf.items(), key=lambda item: item[1],reverse=True))[0:50])"
   ]
  },
  {
   "cell_type": "markdown",
   "id": "6bcad08b",
   "metadata": {},
   "source": [
    "Looking at Ambassador Zeguang's tenure, it's clear that the main focus is China, Hong Kong, and a potpourri of words relating to Chinese security concerns. "
   ]
  },
  {
   "cell_type": "markdown",
   "id": "d33d1b2d",
   "metadata": {},
   "source": [
    "#### Ambassador  Xioming"
   ]
  },
  {
   "cell_type": "code",
   "execution_count": 52,
   "id": "ac903de9",
   "metadata": {
    "scrolled": false
   },
   "outputs": [
    {
     "data": {
      "text/plain": [
       "{'china': 1542,\n",
       " 'chinese': 759,\n",
       " 'hong': 722,\n",
       " 'kong': 699,\n",
       " 'hong kong': 684,\n",
       " 'country': 658,\n",
       " 'xinjiang': 613,\n",
       " 'people': 573,\n",
       " 'law': 558,\n",
       " 'uk': 503,\n",
       " 'right': 419,\n",
       " 'international': 374,\n",
       " 'affair': 349,\n",
       " 'ethnic': 315,\n",
       " 'government': 314,\n",
       " 'security': 314,\n",
       " 'national': 303,\n",
       " 'embassy': 286,\n",
       " 'development': 281,\n",
       " 'global': 259,\n",
       " 'chinese embassy': 249,\n",
       " 'time': 237,\n",
       " 'world': 236,\n",
       " 'year': 205,\n",
       " 'group': 204,\n",
       " 'cooperation': 201,\n",
       " 'foreign': 194,\n",
       " 'measure': 180,\n",
       " 'policy': 175,\n",
       " 'public': 175,\n",
       " 'letter': 174,\n",
       " 'report': 173,\n",
       " 'national security': 165,\n",
       " 'region': 163,\n",
       " 'internal': 161,\n",
       " 'freedom': 160,\n",
       " 'ethnic group': 156,\n",
       " 'th': 152,\n",
       " 'internal affair': 151,\n",
       " 'health': 150,\n",
       " 'million': 148,\n",
       " 'economic': 145,\n",
       " 'population': 142,\n",
       " 'state': 142,\n",
       " 'fact': 137,\n",
       " 'according': 136,\n",
       " 'education': 136,\n",
       " 'question': 136,\n",
       " 'covid': 134,\n",
       " 'effort': 134}"
      ]
     },
     "execution_count": 52,
     "metadata": {},
     "output_type": "execute_result"
    }
   ],
   "source": [
    "# looking at the top 50 words for Ambassador Xiaoming\n",
    "dict((sorted(ubt_amb_x_tf.items(), key=lambda item: item[1],reverse=True))[0:50])"
   ]
  },
  {
   "cell_type": "markdown",
   "id": "23fad31b",
   "metadata": {},
   "source": [
    "Looking at Ambassador Xioming's tenure, it's clear that like Ambassador Zeguang's tenure, it's focused mostly on China and Hong Kong and relevant issues appearing during his tenure. "
   ]
  },
  {
   "cell_type": "markdown",
   "id": "2401a34b",
   "metadata": {},
   "source": [
    "#### Vacant Ambassadorship"
   ]
  },
  {
   "cell_type": "code",
   "execution_count": 53,
   "id": "f09f64d3",
   "metadata": {},
   "outputs": [
    {
     "data": {
      "text/plain": [
       "{'china': 131,\n",
       " 'chinese': 81,\n",
       " 'hong': 80,\n",
       " 'hong kong': 78,\n",
       " 'kong': 78,\n",
       " 'uk': 75,\n",
       " 'xinjiang': 64,\n",
       " 'law': 57,\n",
       " 'country': 55,\n",
       " 'right': 41,\n",
       " 'people': 38,\n",
       " 'report': 34,\n",
       " 'security': 33,\n",
       " 'affair': 30,\n",
       " 'national': 29,\n",
       " 'joint': 27,\n",
       " 'cooperation': 25,\n",
       " 'fact': 24,\n",
       " 'hong kong sar': 23,\n",
       " 'kong sar': 23,\n",
       " 'sar': 23,\n",
       " 'development': 22,\n",
       " 'international': 22,\n",
       " 'group': 21,\n",
       " 'national security': 21,\n",
       " 'relevant': 21,\n",
       " 'genocide': 20,\n",
       " 'internal': 20,\n",
       " 'china internal': 19,\n",
       " 'chinese embassy': 18,\n",
       " 'embassy': 18,\n",
       " 'government': 18,\n",
       " 'issue': 18,\n",
       " 'law hong': 18,\n",
       " 'law hong kong': 18,\n",
       " 'medium': 18,\n",
       " 'socalled': 18,\n",
       " 'declaration': 17,\n",
       " 'internal affair': 17,\n",
       " 'joint declaration': 17,\n",
       " 'question': 17,\n",
       " 'china internal affair': 16,\n",
       " 'comment': 16,\n",
       " 'ethnic': 16,\n",
       " 'sovereignty': 16,\n",
       " 'state': 16,\n",
       " 'world': 16,\n",
       " 'legal': 15,\n",
       " 'national security law': 15,\n",
       " 'political': 15}"
      ]
     },
     "execution_count": 53,
     "metadata": {},
     "output_type": "execute_result"
    }
   ],
   "source": [
    "# looking at the top 50 words when the ambassadorship was vacant\n",
    "dict((sorted(ubt_v_amb_tf.items(), key=lambda item: item[1],reverse=True))[0:50])"
   ]
  },
  {
   "cell_type": "markdown",
   "id": "f2b2b78f",
   "metadata": {},
   "source": [
    "Looking at when the ambassadorship was vacant, it's quite clear that the focus isn't too different when compared to when there is an ambassador in office. This would seem to indicate the focus of the messaging is driven by events more than anything else. "
   ]
  },
  {
   "cell_type": "markdown",
   "id": "2ff9fcfe",
   "metadata": {},
   "source": [
    "### Sentiment Analysis"
   ]
  },
  {
   "cell_type": "markdown",
   "id": "97012cc7",
   "metadata": {},
   "source": [
    "#### Textblob"
   ]
  },
  {
   "cell_type": "code",
   "execution_count": 25,
   "id": "67bd387b",
   "metadata": {},
   "outputs": [],
   "source": [
    "# function to apply TextBlob\n",
    "def tb_sent_func(cleaned_release):\n",
    "    press_release = TextBlob(cleaned_release)\n",
    "    \n",
    "    return(press_release.sentiment)"
   ]
  },
  {
   "cell_type": "code",
   "execution_count": 26,
   "id": "f9389ca8",
   "metadata": {},
   "outputs": [
    {
     "name": "stdout",
     "output_type": "stream",
     "text": [
      "Wall time: 1.09 s\n"
     ]
    }
   ],
   "source": [
    "%%time\n",
    "# applying the function to the cleaned press release column and returning two cols (sentiment & polarity)\n",
    "# uses str to convert to iterable and then selects element within that\n",
    "data[\"tb_sentiment\"] = data[\"cleaned\"].apply(tb_sent_func).str[0]\n",
    "data[\"tb_polarity\"] = data[\"cleaned\"].apply(tb_sent_func).str[1]"
   ]
  },
  {
   "cell_type": "markdown",
   "id": "a25c2f99",
   "metadata": {},
   "source": [
    "#### Vader & NLTK"
   ]
  },
  {
   "cell_type": "code",
   "execution_count": 103,
   "id": "9b074507",
   "metadata": {},
   "outputs": [],
   "source": [
    "# defining the analyzer to be used here \n",
    "analyzer = SentimentIntensityAnalyzer()\n",
    "\n",
    "# using the vader score\n",
    "def vader_sent_func(cleaned_release):\n",
    "    vader_sent = analyzer.polarity_scores(cleaned_release)\n",
    "    \n",
    "    return(vader_sent)"
   ]
  },
  {
   "cell_type": "code",
   "execution_count": 106,
   "id": "8389563d",
   "metadata": {},
   "outputs": [
    {
     "name": "stdout",
     "output_type": "stream",
     "text": [
      "Wall time: 25.6 s\n"
     ]
    }
   ],
   "source": [
    "%%time\n",
    "# running vader sentiment analysis\n",
    "# positive sentiment\n",
    "data[\"vader_sent_pos\"] = data[\"cleaned\"].apply(vader_sent_func).str[\"pos\"]\n",
    "\n",
    "# neutral sentiment\n",
    "data[\"vader_sent_neu\"] = data[\"cleaned\"].apply(vader_sent_func).str[\"neu\"]\n",
    "\n",
    "# negative sentiment\n",
    "data[\"vader_sent_neg\"] = data[\"cleaned\"].apply(vader_sent_func).str[\"neg\"]\n",
    "\n",
    "# compound sentiment\n",
    "data[\"vader_sent_compound\"] = data[\"cleaned\"].apply(vader_sent_func).str[\"compound\"]"
   ]
  },
  {
   "cell_type": "markdown",
   "id": "610a3867",
   "metadata": {},
   "source": [
    "#### Visualize by Ambassador's Term"
   ]
  },
  {
   "cell_type": "markdown",
   "id": "f9937161",
   "metadata": {},
   "source": [
    "#### Visualizing Textblob by term"
   ]
  },
  {
   "cell_type": "code",
   "execution_count": 29,
   "id": "ed664712",
   "metadata": {},
   "outputs": [
    {
     "data": {
      "text/html": [
       "<div>\n",
       "<style scoped>\n",
       "    .dataframe tbody tr th:only-of-type {\n",
       "        vertical-align: middle;\n",
       "    }\n",
       "\n",
       "    .dataframe tbody tr th {\n",
       "        vertical-align: top;\n",
       "    }\n",
       "\n",
       "    .dataframe thead th {\n",
       "        text-align: right;\n",
       "    }\n",
       "</style>\n",
       "<table border=\"1\" class=\"dataframe\">\n",
       "  <thead>\n",
       "    <tr style=\"text-align: right;\">\n",
       "      <th></th>\n",
       "      <th>count</th>\n",
       "      <th>mean</th>\n",
       "      <th>std</th>\n",
       "      <th>min</th>\n",
       "      <th>25%</th>\n",
       "      <th>50%</th>\n",
       "      <th>75%</th>\n",
       "      <th>max</th>\n",
       "    </tr>\n",
       "    <tr>\n",
       "      <th>ambassador</th>\n",
       "      <th></th>\n",
       "      <th></th>\n",
       "      <th></th>\n",
       "      <th></th>\n",
       "      <th></th>\n",
       "      <th></th>\n",
       "      <th></th>\n",
       "      <th></th>\n",
       "    </tr>\n",
       "  </thead>\n",
       "  <tbody>\n",
       "    <tr>\n",
       "      <th>Ambassador Liu Xiaoming</th>\n",
       "      <td>253.0</td>\n",
       "      <td>0.059592</td>\n",
       "      <td>0.074032</td>\n",
       "      <td>-0.146667</td>\n",
       "      <td>0.012468</td>\n",
       "      <td>0.064236</td>\n",
       "      <td>0.098423</td>\n",
       "      <td>0.450000</td>\n",
       "    </tr>\n",
       "    <tr>\n",
       "      <th>Ambassador Zheng Zeguang</th>\n",
       "      <td>97.0</td>\n",
       "      <td>0.061420</td>\n",
       "      <td>0.062121</td>\n",
       "      <td>-0.128804</td>\n",
       "      <td>0.029315</td>\n",
       "      <td>0.058783</td>\n",
       "      <td>0.099683</td>\n",
       "      <td>0.204816</td>\n",
       "    </tr>\n",
       "    <tr>\n",
       "      <th>Vacant</th>\n",
       "      <td>23.0</td>\n",
       "      <td>0.063196</td>\n",
       "      <td>0.069231</td>\n",
       "      <td>-0.055556</td>\n",
       "      <td>0.010260</td>\n",
       "      <td>0.081692</td>\n",
       "      <td>0.102624</td>\n",
       "      <td>0.171429</td>\n",
       "    </tr>\n",
       "  </tbody>\n",
       "</table>\n",
       "</div>"
      ],
      "text/plain": [
       "                          count      mean       std       min       25%  \\\n",
       "ambassador                                                                \n",
       "Ambassador Liu Xiaoming   253.0  0.059592  0.074032 -0.146667  0.012468   \n",
       "Ambassador Zheng Zeguang   97.0  0.061420  0.062121 -0.128804  0.029315   \n",
       "Vacant                     23.0  0.063196  0.069231 -0.055556  0.010260   \n",
       "\n",
       "                               50%       75%       max  \n",
       "ambassador                                              \n",
       "Ambassador Liu Xiaoming   0.064236  0.098423  0.450000  \n",
       "Ambassador Zheng Zeguang  0.058783  0.099683  0.204816  \n",
       "Vacant                    0.081692  0.102624  0.171429  "
      ]
     },
     "execution_count": 29,
     "metadata": {},
     "output_type": "execute_result"
    }
   ],
   "source": [
    "# starting with descriptive statistics\n",
    "data[\"tb_sentiment\"].groupby([data[\"ambassador\"]]).describe()"
   ]
  },
  {
   "cell_type": "markdown",
   "id": "ecb951a9",
   "metadata": {},
   "source": [
    "Just looking at the mean Textblob sentiment, we can see that Ambassador Xiaoming's releases seem to have a lower sentiment and a greater standard deviation. To keep this in context, Textblob uses a scale of 1 to -1 for sentiment with 0 being neutral. Thus, a sentiment score of .59 would be fairly positive. Of course, one issue here is sentiment is always with respect to something and in this case, the object of this sentiment is uknown. "
   ]
  },
  {
   "cell_type": "code",
   "execution_count": 147,
   "id": "4e9beef5",
   "metadata": {},
   "outputs": [
    {
     "data": {
      "text/html": [
       "<div>\n",
       "<style scoped>\n",
       "    .dataframe tbody tr th:only-of-type {\n",
       "        vertical-align: middle;\n",
       "    }\n",
       "\n",
       "    .dataframe tbody tr th {\n",
       "        vertical-align: top;\n",
       "    }\n",
       "\n",
       "    .dataframe thead th {\n",
       "        text-align: right;\n",
       "    }\n",
       "</style>\n",
       "<table border=\"1\" class=\"dataframe\">\n",
       "  <thead>\n",
       "    <tr style=\"text-align: right;\">\n",
       "      <th></th>\n",
       "      <th></th>\n",
       "      <th>tb_sentiment</th>\n",
       "    </tr>\n",
       "    <tr>\n",
       "      <th>ambassador</th>\n",
       "      <th>date</th>\n",
       "      <th></th>\n",
       "    </tr>\n",
       "  </thead>\n",
       "  <tbody>\n",
       "    <tr>\n",
       "      <th rowspan=\"13\" valign=\"top\">Ambassador Liu Xiaoming</th>\n",
       "      <th>2009-12-31</th>\n",
       "      <td>0.035680</td>\n",
       "    </tr>\n",
       "    <tr>\n",
       "      <th>2010-12-31</th>\n",
       "      <td>0.032510</td>\n",
       "    </tr>\n",
       "    <tr>\n",
       "      <th>2011-12-31</th>\n",
       "      <td>NaN</td>\n",
       "    </tr>\n",
       "    <tr>\n",
       "      <th>2012-12-31</th>\n",
       "      <td>0.004244</td>\n",
       "    </tr>\n",
       "    <tr>\n",
       "      <th>2013-12-31</th>\n",
       "      <td>0.051032</td>\n",
       "    </tr>\n",
       "    <tr>\n",
       "      <th>2014-12-31</th>\n",
       "      <td>0.043174</td>\n",
       "    </tr>\n",
       "    <tr>\n",
       "      <th>2015-12-31</th>\n",
       "      <td>0.061907</td>\n",
       "    </tr>\n",
       "    <tr>\n",
       "      <th>2016-12-31</th>\n",
       "      <td>NaN</td>\n",
       "    </tr>\n",
       "    <tr>\n",
       "      <th>2017-12-31</th>\n",
       "      <td>NaN</td>\n",
       "    </tr>\n",
       "    <tr>\n",
       "      <th>2018-12-31</th>\n",
       "      <td>0.080891</td>\n",
       "    </tr>\n",
       "    <tr>\n",
       "      <th>2019-12-31</th>\n",
       "      <td>0.036704</td>\n",
       "    </tr>\n",
       "    <tr>\n",
       "      <th>2020-12-31</th>\n",
       "      <td>0.077168</td>\n",
       "    </tr>\n",
       "    <tr>\n",
       "      <th>2021-12-31</th>\n",
       "      <td>0.054723</td>\n",
       "    </tr>\n",
       "    <tr>\n",
       "      <th>Ambassador Zheng Zeguang</th>\n",
       "      <th>2021-12-31</th>\n",
       "      <td>0.061420</td>\n",
       "    </tr>\n",
       "    <tr>\n",
       "      <th>Vacant</th>\n",
       "      <th>2021-12-31</th>\n",
       "      <td>0.063196</td>\n",
       "    </tr>\n",
       "  </tbody>\n",
       "</table>\n",
       "</div>"
      ],
      "text/plain": [
       "                                     tb_sentiment\n",
       "ambassador               date                    \n",
       "Ambassador Liu Xiaoming  2009-12-31      0.035680\n",
       "                         2010-12-31      0.032510\n",
       "                         2011-12-31           NaN\n",
       "                         2012-12-31      0.004244\n",
       "                         2013-12-31      0.051032\n",
       "                         2014-12-31      0.043174\n",
       "                         2015-12-31      0.061907\n",
       "                         2016-12-31           NaN\n",
       "                         2017-12-31           NaN\n",
       "                         2018-12-31      0.080891\n",
       "                         2019-12-31      0.036704\n",
       "                         2020-12-31      0.077168\n",
       "                         2021-12-31      0.054723\n",
       "Ambassador Zheng Zeguang 2021-12-31      0.061420\n",
       "Vacant                   2021-12-31      0.063196"
      ]
     },
     "execution_count": 147,
     "metadata": {},
     "output_type": "execute_result"
    }
   ],
   "source": [
    "# looking at the mean over time on a yearly basis for each ambassador\n",
    "ygrouped = data[[\"tb_sentiment\",\"date\"]].groupby(data[\"ambassador\"]).resample(\"Y\", on=\"date\").mean()\n",
    "ygrouped"
   ]
  },
  {
   "cell_type": "markdown",
   "id": "b0fec09a",
   "metadata": {},
   "source": [
    "We can already see that the the mean sentiment on a yearly basis isn't going to be too informative because Ambassador Zeguang hasn't been in office long enough, however, for comparison purposes, we're going to keep both when we plot the mean sentiment on a yearly and monthly basis. "
   ]
  },
  {
   "cell_type": "code",
   "execution_count": 93,
   "id": "65997891",
   "metadata": {},
   "outputs": [],
   "source": [
    "# resampling on a monthly basis\n",
    "mgrouped = data[[\"tb_sentiment\",\"date\"]].groupby(data[\"ambassador\"]).resample(\"M\", on=\"date\").mean()"
   ]
  },
  {
   "cell_type": "code",
   "execution_count": 145,
   "id": "72d931e3",
   "metadata": {
    "scrolled": true
   },
   "outputs": [
    {
     "data": {
      "image/png": "[encoded data removed]",
      "text/plain": [
       "<Figure size 1440x432 with 2 Axes>"
      ]
     },
     "metadata": {
      "needs_background": "light"
     },
     "output_type": "display_data"
    }
   ],
   "source": [
    "# combining the two graphs for easier comparison\n",
    "fig, (ax1, ax2) = plt.subplots(1,2, figsize=(20,6))\n",
    "# showing the yearly mean TextBlob sentiment for Ambassador Xiaoming b/c the others have only had one year\n",
    "ygrouped.unstack(fill_value=float(\"NaN\"))[\"tb_sentiment\"].loc[\"Ambassador Liu Xiaoming\"].plot(ax=ax1)\n",
    "ax1.set_title(\"Yearly Mean Sentiment (Textblob) Ambassador Liu Xiaoming\")\n",
    "ax1.set_ylabel(\"Textblob Sentiment\")\n",
    "\n",
    "# unstacking, transposing, and plotting \n",
    "mgrouped.unstack(fill_value=float(\"NaN\"))[\"tb_sentiment\"].transpose().plot(ax=ax2)\n",
    "ax2.set_ylabel(\"Mean Textblob sentiment\")\n",
    "ax2.set_title(\"Monthly Mean Sentiment (Textblob)\")\n",
    "ax2.legend(bbox_to_anchor=(1.04,1), loc=\"upper left\")\n",
    "plt.show()"
   ]
  },
  {
   "cell_type": "markdown",
   "id": "2a54977c",
   "metadata": {},
   "source": [
    "Looking at these two visualizations, we can easily see how the mean sentiment has changed over time. It appears that the press releases have a decent amount of variability over time ranging from quite negative sentiment to moderately positive when sampled on a monthly basis to generally positive when sampled on a yearly basis. Overall, it's not surprising to see where the descriptive statistics come from with regard to the sentiment."
   ]
  },
  {
   "cell_type": "markdown",
   "id": "a64055b7",
   "metadata": {},
   "source": [
    "#### Visualizing Vader by term"
   ]
  },
  {
   "cell_type": "code",
   "execution_count": 109,
   "id": "f5c909d9",
   "metadata": {},
   "outputs": [
    {
     "data": {
      "text/html": [
       "<div>\n",
       "<style scoped>\n",
       "    .dataframe tbody tr th:only-of-type {\n",
       "        vertical-align: middle;\n",
       "    }\n",
       "\n",
       "    .dataframe tbody tr th {\n",
       "        vertical-align: top;\n",
       "    }\n",
       "\n",
       "    .dataframe thead th {\n",
       "        text-align: right;\n",
       "    }\n",
       "</style>\n",
       "<table border=\"1\" class=\"dataframe\">\n",
       "  <thead>\n",
       "    <tr style=\"text-align: right;\">\n",
       "      <th></th>\n",
       "      <th>count</th>\n",
       "      <th>mean</th>\n",
       "      <th>std</th>\n",
       "      <th>min</th>\n",
       "      <th>25%</th>\n",
       "      <th>50%</th>\n",
       "      <th>75%</th>\n",
       "      <th>max</th>\n",
       "    </tr>\n",
       "    <tr>\n",
       "      <th>ambassador</th>\n",
       "      <th></th>\n",
       "      <th></th>\n",
       "      <th></th>\n",
       "      <th></th>\n",
       "      <th></th>\n",
       "      <th></th>\n",
       "      <th></th>\n",
       "      <th></th>\n",
       "    </tr>\n",
       "  </thead>\n",
       "  <tbody>\n",
       "    <tr>\n",
       "      <th>Ambassador Liu Xiaoming</th>\n",
       "      <td>253.0</td>\n",
       "      <td>0.407819</td>\n",
       "      <td>0.790071</td>\n",
       "      <td>-0.9979</td>\n",
       "      <td>-0.26510</td>\n",
       "      <td>0.9287</td>\n",
       "      <td>0.9859</td>\n",
       "      <td>0.9998</td>\n",
       "    </tr>\n",
       "    <tr>\n",
       "      <th>Ambassador Zheng Zeguang</th>\n",
       "      <td>97.0</td>\n",
       "      <td>0.608986</td>\n",
       "      <td>0.673539</td>\n",
       "      <td>-0.9952</td>\n",
       "      <td>0.76500</td>\n",
       "      <td>0.9670</td>\n",
       "      <td>0.9923</td>\n",
       "      <td>0.9997</td>\n",
       "    </tr>\n",
       "    <tr>\n",
       "      <th>Vacant</th>\n",
       "      <td>23.0</td>\n",
       "      <td>0.392270</td>\n",
       "      <td>0.826371</td>\n",
       "      <td>-0.9918</td>\n",
       "      <td>-0.17225</td>\n",
       "      <td>0.9674</td>\n",
       "      <td>0.9850</td>\n",
       "      <td>0.9960</td>\n",
       "    </tr>\n",
       "  </tbody>\n",
       "</table>\n",
       "</div>"
      ],
      "text/plain": [
       "                          count      mean       std     min      25%     50%  \\\n",
       "ambassador                                                                     \n",
       "Ambassador Liu Xiaoming   253.0  0.407819  0.790071 -0.9979 -0.26510  0.9287   \n",
       "Ambassador Zheng Zeguang   97.0  0.608986  0.673539 -0.9952  0.76500  0.9670   \n",
       "Vacant                     23.0  0.392270  0.826371 -0.9918 -0.17225  0.9674   \n",
       "\n",
       "                             75%     max  \n",
       "ambassador                                \n",
       "Ambassador Liu Xiaoming   0.9859  0.9998  \n",
       "Ambassador Zheng Zeguang  0.9923  0.9997  \n",
       "Vacant                    0.9850  0.9960  "
      ]
     },
     "execution_count": 109,
     "metadata": {},
     "output_type": "execute_result"
    }
   ],
   "source": [
    "# starting with descriptive statistics for compound sentiment\n",
    "data[\"vader_sent_compound\"].groupby([data[\"ambassador\"]]).describe()"
   ]
  },
  {
   "cell_type": "markdown",
   "id": "dc82e341",
   "metadata": {},
   "source": [
    "Interestingly, the compound VADER score is different when compared to the TextBlob sentiment. According to this, the sentiment was most negative when the ambassadorship was vacant. "
   ]
  },
  {
   "cell_type": "code",
   "execution_count": 113,
   "id": "9f7e79e2",
   "metadata": {},
   "outputs": [
    {
     "data": {
      "text/html": [
       "<div>\n",
       "<style scoped>\n",
       "    .dataframe tbody tr th:only-of-type {\n",
       "        vertical-align: middle;\n",
       "    }\n",
       "\n",
       "    .dataframe tbody tr th {\n",
       "        vertical-align: top;\n",
       "    }\n",
       "\n",
       "    .dataframe thead th {\n",
       "        text-align: right;\n",
       "    }\n",
       "</style>\n",
       "<table border=\"1\" class=\"dataframe\">\n",
       "  <thead>\n",
       "    <tr style=\"text-align: right;\">\n",
       "      <th></th>\n",
       "      <th></th>\n",
       "      <th>vader_sent_compound</th>\n",
       "    </tr>\n",
       "    <tr>\n",
       "      <th>ambassador</th>\n",
       "      <th>date</th>\n",
       "      <th></th>\n",
       "    </tr>\n",
       "  </thead>\n",
       "  <tbody>\n",
       "    <tr>\n",
       "      <th rowspan=\"13\" valign=\"top\">Ambassador Liu Xiaoming</th>\n",
       "      <th>2009-12-31</th>\n",
       "      <td>-0.980900</td>\n",
       "    </tr>\n",
       "    <tr>\n",
       "      <th>2010-12-31</th>\n",
       "      <td>0.259321</td>\n",
       "    </tr>\n",
       "    <tr>\n",
       "      <th>2011-12-31</th>\n",
       "      <td>NaN</td>\n",
       "    </tr>\n",
       "    <tr>\n",
       "      <th>2012-12-31</th>\n",
       "      <td>-0.259100</td>\n",
       "    </tr>\n",
       "    <tr>\n",
       "      <th>2013-12-31</th>\n",
       "      <td>0.431700</td>\n",
       "    </tr>\n",
       "    <tr>\n",
       "      <th>2014-12-31</th>\n",
       "      <td>0.113383</td>\n",
       "    </tr>\n",
       "    <tr>\n",
       "      <th>2015-12-31</th>\n",
       "      <td>0.985900</td>\n",
       "    </tr>\n",
       "    <tr>\n",
       "      <th>2016-12-31</th>\n",
       "      <td>NaN</td>\n",
       "    </tr>\n",
       "    <tr>\n",
       "      <th>2017-12-31</th>\n",
       "      <td>NaN</td>\n",
       "    </tr>\n",
       "    <tr>\n",
       "      <th>2018-12-31</th>\n",
       "      <td>0.682394</td>\n",
       "    </tr>\n",
       "    <tr>\n",
       "      <th>2019-12-31</th>\n",
       "      <td>0.360419</td>\n",
       "    </tr>\n",
       "    <tr>\n",
       "      <th>2020-12-31</th>\n",
       "      <td>0.498984</td>\n",
       "    </tr>\n",
       "    <tr>\n",
       "      <th>2021-12-31</th>\n",
       "      <td>0.467217</td>\n",
       "    </tr>\n",
       "    <tr>\n",
       "      <th>Ambassador Zheng Zeguang</th>\n",
       "      <th>2021-12-31</th>\n",
       "      <td>0.608986</td>\n",
       "    </tr>\n",
       "    <tr>\n",
       "      <th>Vacant</th>\n",
       "      <th>2021-12-31</th>\n",
       "      <td>0.392270</td>\n",
       "    </tr>\n",
       "  </tbody>\n",
       "</table>\n",
       "</div>"
      ],
      "text/plain": [
       "                                     vader_sent_compound\n",
       "ambassador               date                           \n",
       "Ambassador Liu Xiaoming  2009-12-31            -0.980900\n",
       "                         2010-12-31             0.259321\n",
       "                         2011-12-31                  NaN\n",
       "                         2012-12-31            -0.259100\n",
       "                         2013-12-31             0.431700\n",
       "                         2014-12-31             0.113383\n",
       "                         2015-12-31             0.985900\n",
       "                         2016-12-31                  NaN\n",
       "                         2017-12-31                  NaN\n",
       "                         2018-12-31             0.682394\n",
       "                         2019-12-31             0.360419\n",
       "                         2020-12-31             0.498984\n",
       "                         2021-12-31             0.467217\n",
       "Ambassador Zheng Zeguang 2021-12-31             0.608986\n",
       "Vacant                   2021-12-31             0.392270"
      ]
     },
     "execution_count": 113,
     "metadata": {},
     "output_type": "execute_result"
    }
   ],
   "source": [
    "# looking at the yearly mean plot for compound vader sentiment\n",
    "data[[\"vader_sent_compound\",\"date\"]].groupby([data[\"ambassador\"]]).resample(\"y\",on=\"date\").mean()"
   ]
  },
  {
   "cell_type": "code",
   "execution_count": 153,
   "id": "8ae16bc1",
   "metadata": {},
   "outputs": [
    {
     "data": {
      "image/png": "[encoded data removed]",
      "text/plain": [
       "<Figure size 1440x504 with 2 Axes>"
      ]
     },
     "metadata": {
      "needs_background": "light"
     },
     "output_type": "display_data"
    }
   ],
   "source": [
    "# combining the two graphs for easier comparison\n",
    "fig, (ax1, ax2) = plt.subplots(1,2, figsize=(20,7))\n",
    "\n",
    "# plotting the yearly mean plot for compound vader sentiment for Ambassador Xiaoming\n",
    "data[[\"vader_sent_compound\",\"date\"]].groupby([data[\"ambassador\"]]).resample(\"y\",on=\"date\").mean().loc[\"Ambassador Liu Xiaoming\"].plot(ax=ax1)\n",
    "ax1.set_ylabel(\"Mean Compound Sentiment Score\")\n",
    "ax1.set_title(\"Yearly Mean Sentiment (Vader Compound) Ambassador Liu Xiaoming\")\n",
    "\n",
    "# selecting the sentiment and the date, grouping the data by ambassador, resampling by date using the mean\n",
    "# unstacking using the sentiment, transposing it, and ploting it\n",
    "data[[\"vader_sent_compound\",\"date\"]].groupby(data[\"ambassador\"]).resample(\"M\", on=\"date\").mean().unstack()[\"vader_sent_compound\"].transpose().plot(ax=ax2)\n",
    "ax2.set_ylabel(\"Mean Vader Compound Sentiment\")\n",
    "ax2.set_title(\"Monthly Mean Sentiment (Vader Compound)\")\n",
    "ax2.legend(bbox_to_anchor=(1.04,1), loc=\"upper left\")\n",
    "plt.show()"
   ]
  },
  {
   "cell_type": "markdown",
   "id": "839f5b05",
   "metadata": {},
   "source": [
    "Comparing these, we can begin to see how the sentiment on a monthly and yearly basis isn't stable. It mirrors the broad trends we see with the TextBlob sentiment where Ambassador Xiaoming has tended to be more variable with the sentiment of press releases under his tenure and when there was no ambassador it was more negative. "
   ]
  },
  {
   "cell_type": "markdown",
   "id": "eb5d1958",
   "metadata": {},
   "source": [
    "#### Sentiment Analysis Conclusion"
   ]
  },
  {
   "cell_type": "markdown",
   "id": "6137bc69",
   "metadata": {},
   "source": [
    "There are caveats here with reagrd to this analysis. The sentiment models aren't trained on diplomatic language and aren't exactly optimized for this task. Thus, the sentiment needs to be taken with a grain of salt. Additionally, because we're focusing on the mean, outliers can distort what we see here. Finally, this tends to assume that the person in office as Ambassador has a greater impact on the press releases' wording and thus sentiment than current events or decisions from the leadership of the foreign affairs team of a nation (or the person writing the release)."
   ]
  },
  {
   "cell_type": "code",
   "execution_count": null,
   "id": "c86216cd",
   "metadata": {},
   "outputs": [],
   "source": []
  }
 ],
 "metadata": {
  "kernelspec": {
   "display_name": "Python 3",
   "language": "python",
   "name": "python3"
  },
  "language_info": {
   "codemirror_mode": {
    "name": "ipython",
    "version": 3
   },
   "file_extension": ".py",
   "mimetype": "text/x-python",
   "name": "python",
   "nbconvert_exporter": "python",
   "pygments_lexer": "ipython3",
   "version": "3.8.8"
  }
 },
 "nbformat": 4,
 "nbformat_minor": 5
}
